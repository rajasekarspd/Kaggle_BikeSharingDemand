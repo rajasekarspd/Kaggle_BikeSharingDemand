{
 "cells": [
  {
   "cell_type": "markdown",
   "metadata": {},
   "source": [
    "## <center> Bike Sharing"
   ]
  },
  {
   "cell_type": "markdown",
   "metadata": {},
   "source": [
    "### Ask:\n",
    "Predict the total count of bikes rented during each hour in test set."
   ]
  },
  {
   "cell_type": "markdown",
   "metadata": {},
   "source": [
    "### Data:\n",
    "<br>\n",
    "<li> Hourly rental data spanning two years.\n",
    "<li> Training set contains first 19 days of each month.\n",
    "<li> Test Set contains 20th to end of month."
   ]
  },
  {
   "cell_type": "markdown",
   "metadata": {},
   "source": [
    "### Features:\n",
    "<ol>\n",
    "<li> datetime - hourly date + timestamp  \n",
    "<li> season -  1 = spring, 2 = summer, 3 = fall, 4 = winter \n",
    "<li> holiday - whether the day is considered a holiday\n",
    "<li> workingday - whether the day is neither a weekend nor holiday\n",
    "<li> weather - 1: Clear, Few clouds, Partly cloudy, Partly cloudy\n",
    "<li> weather - 2: Mist + Cloudy, Mist + Broken clouds, Mist + Few clouds, Mist\n",
    "<li> weather - 3: Light Snow, Light Rain + Thunderstorm + Scattered clouds, Light Rain + Scattered clouds\n",
    "<li> weather - 4: Heavy Rain + Ice Pallets + Thunderstorm + Mist, Snow + Fog \n",
    "<li> temp - temperature in Celsius\n",
    "<li> atemp - \"feels like\" temperature in Celsius\n",
    "<li> humidity - relative humidity\n",
    "<li> windspeed - wind speed\n",
    "<li> casual - number of non-registered user rentals initiated\n",
    "<li> registered - number of registered user rentals initiated\n",
    "<li> count - number of total rentals\n",
    "    </ol>"
   ]
  },
  {
   "cell_type": "code",
   "execution_count": 1,
   "metadata": {},
   "outputs": [],
   "source": [
    "#Import necessary packages\n",
    "import pandas as pd\n",
    "import numpy as np\n",
    "import matplotlib.pyplot as plt\n",
    "%matplotlib inline\n",
    "import seaborn as sb\n",
    "from datetime import datetime\n",
    "import calendar\n",
    "\n",
    "#Suppress warnings\n",
    "import warnings\n",
    "warnings.filterwarnings('ignore')"
   ]
  },
  {
   "cell_type": "code",
   "execution_count": 2,
   "metadata": {},
   "outputs": [],
   "source": [
    "#Read dataset\n",
    "df_train = pd.read_csv('data/train.csv')\n",
    "df_test = pd.read_csv('data/test.csv')"
   ]
  },
  {
   "cell_type": "code",
   "execution_count": 3,
   "metadata": {},
   "outputs": [
    {
     "data": {
      "text/html": [
       "<div>\n",
       "<style scoped>\n",
       "    .dataframe tbody tr th:only-of-type {\n",
       "        vertical-align: middle;\n",
       "    }\n",
       "\n",
       "    .dataframe tbody tr th {\n",
       "        vertical-align: top;\n",
       "    }\n",
       "\n",
       "    .dataframe thead th {\n",
       "        text-align: right;\n",
       "    }\n",
       "</style>\n",
       "<table border=\"1\" class=\"dataframe\">\n",
       "  <thead>\n",
       "    <tr style=\"text-align: right;\">\n",
       "      <th></th>\n",
       "      <th>datetime</th>\n",
       "      <th>season</th>\n",
       "      <th>holiday</th>\n",
       "      <th>workingday</th>\n",
       "      <th>weather</th>\n",
       "      <th>temp</th>\n",
       "      <th>atemp</th>\n",
       "      <th>humidity</th>\n",
       "      <th>windspeed</th>\n",
       "      <th>casual</th>\n",
       "      <th>registered</th>\n",
       "      <th>count</th>\n",
       "    </tr>\n",
       "  </thead>\n",
       "  <tbody>\n",
       "    <tr>\n",
       "      <td>0</td>\n",
       "      <td>2011-01-01 00:00:00</td>\n",
       "      <td>1</td>\n",
       "      <td>0</td>\n",
       "      <td>0</td>\n",
       "      <td>1</td>\n",
       "      <td>9.84</td>\n",
       "      <td>14.395</td>\n",
       "      <td>81</td>\n",
       "      <td>0.0</td>\n",
       "      <td>3</td>\n",
       "      <td>13</td>\n",
       "      <td>16</td>\n",
       "    </tr>\n",
       "    <tr>\n",
       "      <td>1</td>\n",
       "      <td>2011-01-01 01:00:00</td>\n",
       "      <td>1</td>\n",
       "      <td>0</td>\n",
       "      <td>0</td>\n",
       "      <td>1</td>\n",
       "      <td>9.02</td>\n",
       "      <td>13.635</td>\n",
       "      <td>80</td>\n",
       "      <td>0.0</td>\n",
       "      <td>8</td>\n",
       "      <td>32</td>\n",
       "      <td>40</td>\n",
       "    </tr>\n",
       "    <tr>\n",
       "      <td>2</td>\n",
       "      <td>2011-01-01 02:00:00</td>\n",
       "      <td>1</td>\n",
       "      <td>0</td>\n",
       "      <td>0</td>\n",
       "      <td>1</td>\n",
       "      <td>9.02</td>\n",
       "      <td>13.635</td>\n",
       "      <td>80</td>\n",
       "      <td>0.0</td>\n",
       "      <td>5</td>\n",
       "      <td>27</td>\n",
       "      <td>32</td>\n",
       "    </tr>\n",
       "    <tr>\n",
       "      <td>3</td>\n",
       "      <td>2011-01-01 03:00:00</td>\n",
       "      <td>1</td>\n",
       "      <td>0</td>\n",
       "      <td>0</td>\n",
       "      <td>1</td>\n",
       "      <td>9.84</td>\n",
       "      <td>14.395</td>\n",
       "      <td>75</td>\n",
       "      <td>0.0</td>\n",
       "      <td>3</td>\n",
       "      <td>10</td>\n",
       "      <td>13</td>\n",
       "    </tr>\n",
       "    <tr>\n",
       "      <td>4</td>\n",
       "      <td>2011-01-01 04:00:00</td>\n",
       "      <td>1</td>\n",
       "      <td>0</td>\n",
       "      <td>0</td>\n",
       "      <td>1</td>\n",
       "      <td>9.84</td>\n",
       "      <td>14.395</td>\n",
       "      <td>75</td>\n",
       "      <td>0.0</td>\n",
       "      <td>0</td>\n",
       "      <td>1</td>\n",
       "      <td>1</td>\n",
       "    </tr>\n",
       "  </tbody>\n",
       "</table>\n",
       "</div>"
      ],
      "text/plain": [
       "              datetime  season  holiday  workingday  weather  temp   atemp  \\\n",
       "0  2011-01-01 00:00:00       1        0           0        1  9.84  14.395   \n",
       "1  2011-01-01 01:00:00       1        0           0        1  9.02  13.635   \n",
       "2  2011-01-01 02:00:00       1        0           0        1  9.02  13.635   \n",
       "3  2011-01-01 03:00:00       1        0           0        1  9.84  14.395   \n",
       "4  2011-01-01 04:00:00       1        0           0        1  9.84  14.395   \n",
       "\n",
       "   humidity  windspeed  casual  registered  count  \n",
       "0        81        0.0       3          13     16  \n",
       "1        80        0.0       8          32     40  \n",
       "2        80        0.0       5          27     32  \n",
       "3        75        0.0       3          10     13  \n",
       "4        75        0.0       0           1      1  "
      ]
     },
     "execution_count": 3,
     "metadata": {},
     "output_type": "execute_result"
    }
   ],
   "source": [
    "#Review training set data\n",
    "df_train.head()"
   ]
  },
  {
   "cell_type": "code",
   "execution_count": 4,
   "metadata": {},
   "outputs": [
    {
     "data": {
      "text/html": [
       "<div>\n",
       "<style scoped>\n",
       "    .dataframe tbody tr th:only-of-type {\n",
       "        vertical-align: middle;\n",
       "    }\n",
       "\n",
       "    .dataframe tbody tr th {\n",
       "        vertical-align: top;\n",
       "    }\n",
       "\n",
       "    .dataframe thead th {\n",
       "        text-align: right;\n",
       "    }\n",
       "</style>\n",
       "<table border=\"1\" class=\"dataframe\">\n",
       "  <thead>\n",
       "    <tr style=\"text-align: right;\">\n",
       "      <th></th>\n",
       "      <th>datetime</th>\n",
       "      <th>season</th>\n",
       "      <th>holiday</th>\n",
       "      <th>workingday</th>\n",
       "      <th>weather</th>\n",
       "      <th>temp</th>\n",
       "      <th>atemp</th>\n",
       "      <th>humidity</th>\n",
       "      <th>windspeed</th>\n",
       "    </tr>\n",
       "  </thead>\n",
       "  <tbody>\n",
       "    <tr>\n",
       "      <td>0</td>\n",
       "      <td>2011-01-20 00:00:00</td>\n",
       "      <td>1</td>\n",
       "      <td>0</td>\n",
       "      <td>1</td>\n",
       "      <td>1</td>\n",
       "      <td>10.66</td>\n",
       "      <td>11.365</td>\n",
       "      <td>56</td>\n",
       "      <td>26.0027</td>\n",
       "    </tr>\n",
       "    <tr>\n",
       "      <td>1</td>\n",
       "      <td>2011-01-20 01:00:00</td>\n",
       "      <td>1</td>\n",
       "      <td>0</td>\n",
       "      <td>1</td>\n",
       "      <td>1</td>\n",
       "      <td>10.66</td>\n",
       "      <td>13.635</td>\n",
       "      <td>56</td>\n",
       "      <td>0.0000</td>\n",
       "    </tr>\n",
       "    <tr>\n",
       "      <td>2</td>\n",
       "      <td>2011-01-20 02:00:00</td>\n",
       "      <td>1</td>\n",
       "      <td>0</td>\n",
       "      <td>1</td>\n",
       "      <td>1</td>\n",
       "      <td>10.66</td>\n",
       "      <td>13.635</td>\n",
       "      <td>56</td>\n",
       "      <td>0.0000</td>\n",
       "    </tr>\n",
       "    <tr>\n",
       "      <td>3</td>\n",
       "      <td>2011-01-20 03:00:00</td>\n",
       "      <td>1</td>\n",
       "      <td>0</td>\n",
       "      <td>1</td>\n",
       "      <td>1</td>\n",
       "      <td>10.66</td>\n",
       "      <td>12.880</td>\n",
       "      <td>56</td>\n",
       "      <td>11.0014</td>\n",
       "    </tr>\n",
       "    <tr>\n",
       "      <td>4</td>\n",
       "      <td>2011-01-20 04:00:00</td>\n",
       "      <td>1</td>\n",
       "      <td>0</td>\n",
       "      <td>1</td>\n",
       "      <td>1</td>\n",
       "      <td>10.66</td>\n",
       "      <td>12.880</td>\n",
       "      <td>56</td>\n",
       "      <td>11.0014</td>\n",
       "    </tr>\n",
       "  </tbody>\n",
       "</table>\n",
       "</div>"
      ],
      "text/plain": [
       "              datetime  season  holiday  workingday  weather   temp   atemp  \\\n",
       "0  2011-01-20 00:00:00       1        0           1        1  10.66  11.365   \n",
       "1  2011-01-20 01:00:00       1        0           1        1  10.66  13.635   \n",
       "2  2011-01-20 02:00:00       1        0           1        1  10.66  13.635   \n",
       "3  2011-01-20 03:00:00       1        0           1        1  10.66  12.880   \n",
       "4  2011-01-20 04:00:00       1        0           1        1  10.66  12.880   \n",
       "\n",
       "   humidity  windspeed  \n",
       "0        56    26.0027  \n",
       "1        56     0.0000  \n",
       "2        56     0.0000  \n",
       "3        56    11.0014  \n",
       "4        56    11.0014  "
      ]
     },
     "execution_count": 4,
     "metadata": {},
     "output_type": "execute_result"
    }
   ],
   "source": [
    "#Review test set data\n",
    "df_test.head()"
   ]
  },
  {
   "cell_type": "code",
   "execution_count": 5,
   "metadata": {},
   "outputs": [
    {
     "data": {
      "text/plain": [
       "((10886, 12), (6493, 9))"
      ]
     },
     "execution_count": 5,
     "metadata": {},
     "output_type": "execute_result"
    }
   ],
   "source": [
    "df_train.shape, df_test.shape"
   ]
  },
  {
   "cell_type": "markdown",
   "metadata": {},
   "source": [
    "### Backup data"
   ]
  },
  {
   "cell_type": "code",
   "execution_count": 6,
   "metadata": {},
   "outputs": [],
   "source": [
    "df_train_copy = df_train.copy()\n",
    "df_test_copy = df_test.copy()"
   ]
  },
  {
   "cell_type": "markdown",
   "metadata": {},
   "source": [
    "---"
   ]
  },
  {
   "cell_type": "code",
   "execution_count": 7,
   "metadata": {},
   "outputs": [
    {
     "data": {
      "text/plain": [
       "datetime       object\n",
       "season          int64\n",
       "holiday         int64\n",
       "workingday      int64\n",
       "weather         int64\n",
       "temp          float64\n",
       "atemp         float64\n",
       "humidity        int64\n",
       "windspeed     float64\n",
       "casual          int64\n",
       "registered      int64\n",
       "count           int64\n",
       "dtype: object"
      ]
     },
     "execution_count": 7,
     "metadata": {},
     "output_type": "execute_result"
    }
   ],
   "source": [
    "#Reviewing datatypes\n",
    "df_train.dtypes"
   ]
  },
  {
   "cell_type": "code",
   "execution_count": 8,
   "metadata": {},
   "outputs": [
    {
     "data": {
      "text/plain": [
       "datetime       object\n",
       "season          int64\n",
       "holiday         int64\n",
       "workingday      int64\n",
       "weather         int64\n",
       "temp          float64\n",
       "atemp         float64\n",
       "humidity        int64\n",
       "windspeed     float64\n",
       "dtype: object"
      ]
     },
     "execution_count": 8,
     "metadata": {},
     "output_type": "execute_result"
    }
   ],
   "source": [
    "df_test.dtypes"
   ]
  },
  {
   "cell_type": "code",
   "execution_count": 9,
   "metadata": {},
   "outputs": [
    {
     "data": {
      "text/plain": [
       "(10886, 6493)"
      ]
     },
     "execution_count": 9,
     "metadata": {},
     "output_type": "execute_result"
    }
   ],
   "source": [
    "#Saving total number of rows in test and train\n",
    "ntrain = df_train.shape[0]\n",
    "ntest = df_test.shape[0]\n",
    "\n",
    "ntrain, ntest"
   ]
  },
  {
   "cell_type": "code",
   "execution_count": 10,
   "metadata": {},
   "outputs": [],
   "source": [
    "#Let's remove few columns from training set as they are not available in test set.\n",
    "dcols = ['count', 'casual', 'registered']\n",
    "\n",
    "#Let's backkup the data first\n",
    "df_target = df_train[dcols]\n",
    "\n",
    "#Let's remove them\n",
    "df_train.drop(dcols, inplace=True, axis=1)"
   ]
  },
  {
   "cell_type": "code",
   "execution_count": 11,
   "metadata": {},
   "outputs": [
    {
     "data": {
      "text/plain": [
       "((10886, 9), (6493, 9))"
      ]
     },
     "execution_count": 11,
     "metadata": {},
     "output_type": "execute_result"
    }
   ],
   "source": [
    "df_train.shape, df_test.shape"
   ]
  },
  {
   "cell_type": "code",
   "execution_count": 13,
   "metadata": {},
   "outputs": [
    {
     "data": {
      "text/html": [
       "<div>\n",
       "<style scoped>\n",
       "    .dataframe tbody tr th:only-of-type {\n",
       "        vertical-align: middle;\n",
       "    }\n",
       "\n",
       "    .dataframe tbody tr th {\n",
       "        vertical-align: top;\n",
       "    }\n",
       "\n",
       "    .dataframe thead th {\n",
       "        text-align: right;\n",
       "    }\n",
       "</style>\n",
       "<table border=\"1\" class=\"dataframe\">\n",
       "  <thead>\n",
       "    <tr style=\"text-align: right;\">\n",
       "      <th></th>\n",
       "      <th>datetime</th>\n",
       "      <th>season</th>\n",
       "      <th>holiday</th>\n",
       "      <th>workingday</th>\n",
       "      <th>weather</th>\n",
       "      <th>temp</th>\n",
       "      <th>atemp</th>\n",
       "      <th>humidity</th>\n",
       "      <th>windspeed</th>\n",
       "    </tr>\n",
       "  </thead>\n",
       "  <tbody>\n",
       "    <tr>\n",
       "      <td>0</td>\n",
       "      <td>2011-01-01 00:00:00</td>\n",
       "      <td>1</td>\n",
       "      <td>0</td>\n",
       "      <td>0</td>\n",
       "      <td>1</td>\n",
       "      <td>9.84</td>\n",
       "      <td>14.395</td>\n",
       "      <td>81</td>\n",
       "      <td>0.0</td>\n",
       "    </tr>\n",
       "    <tr>\n",
       "      <td>1</td>\n",
       "      <td>2011-01-01 01:00:00</td>\n",
       "      <td>1</td>\n",
       "      <td>0</td>\n",
       "      <td>0</td>\n",
       "      <td>1</td>\n",
       "      <td>9.02</td>\n",
       "      <td>13.635</td>\n",
       "      <td>80</td>\n",
       "      <td>0.0</td>\n",
       "    </tr>\n",
       "    <tr>\n",
       "      <td>2</td>\n",
       "      <td>2011-01-01 02:00:00</td>\n",
       "      <td>1</td>\n",
       "      <td>0</td>\n",
       "      <td>0</td>\n",
       "      <td>1</td>\n",
       "      <td>9.02</td>\n",
       "      <td>13.635</td>\n",
       "      <td>80</td>\n",
       "      <td>0.0</td>\n",
       "    </tr>\n",
       "  </tbody>\n",
       "</table>\n",
       "</div>"
      ],
      "text/plain": [
       "              datetime  season  holiday  workingday  weather  temp   atemp  \\\n",
       "0  2011-01-01 00:00:00       1        0           0        1  9.84  14.395   \n",
       "1  2011-01-01 01:00:00       1        0           0        1  9.02  13.635   \n",
       "2  2011-01-01 02:00:00       1        0           0        1  9.02  13.635   \n",
       "\n",
       "   humidity  windspeed  \n",
       "0        81        0.0  \n",
       "1        80        0.0  \n",
       "2        80        0.0  "
      ]
     },
     "execution_count": 13,
     "metadata": {},
     "output_type": "execute_result"
    }
   ],
   "source": [
    "#Let's concatenate train and test data\n",
    "df_alldata = pd.concat([df_train, df_test], axis=0).reset_index(drop=True)\n",
    "\n",
    "df_alldata.head(3)"
   ]
  },
  {
   "cell_type": "code",
   "execution_count": 14,
   "metadata": {},
   "outputs": [
    {
     "data": {
      "text/plain": [
       "(17379, 9)"
      ]
     },
     "execution_count": 14,
     "metadata": {},
     "output_type": "execute_result"
    }
   ],
   "source": [
    "df_alldata.shape"
   ]
  },
  {
   "cell_type": "markdown",
   "metadata": {},
   "source": [
    "## Exploratory Data Analysis"
   ]
  },
  {
   "cell_type": "code",
   "execution_count": 15,
   "metadata": {},
   "outputs": [],
   "source": [
    "#Let start our EDA with datetime\n",
    "df_alldata['datetime'] = pd.to_datetime(df_alldata['datetime'])"
   ]
  },
  {
   "cell_type": "code",
   "execution_count": 16,
   "metadata": {
    "scrolled": true
   },
   "outputs": [
    {
     "data": {
      "text/html": [
       "<div>\n",
       "<style scoped>\n",
       "    .dataframe tbody tr th:only-of-type {\n",
       "        vertical-align: middle;\n",
       "    }\n",
       "\n",
       "    .dataframe tbody tr th {\n",
       "        vertical-align: top;\n",
       "    }\n",
       "\n",
       "    .dataframe thead th {\n",
       "        text-align: right;\n",
       "    }\n",
       "</style>\n",
       "<table border=\"1\" class=\"dataframe\">\n",
       "  <thead>\n",
       "    <tr style=\"text-align: right;\">\n",
       "      <th></th>\n",
       "      <th>datetime</th>\n",
       "      <th>season</th>\n",
       "      <th>holiday</th>\n",
       "      <th>workingday</th>\n",
       "      <th>weather</th>\n",
       "      <th>temp</th>\n",
       "      <th>atemp</th>\n",
       "      <th>humidity</th>\n",
       "      <th>windspeed</th>\n",
       "      <th>day</th>\n",
       "      <th>date</th>\n",
       "      <th>hour</th>\n",
       "      <th>month</th>\n",
       "      <th>year</th>\n",
       "    </tr>\n",
       "  </thead>\n",
       "  <tbody>\n",
       "    <tr>\n",
       "      <td>0</td>\n",
       "      <td>2011-01-01 00:00:00</td>\n",
       "      <td>1</td>\n",
       "      <td>0</td>\n",
       "      <td>0</td>\n",
       "      <td>1</td>\n",
       "      <td>9.84</td>\n",
       "      <td>14.395</td>\n",
       "      <td>81</td>\n",
       "      <td>0.0</td>\n",
       "      <td>Saturday</td>\n",
       "      <td>1</td>\n",
       "      <td>0</td>\n",
       "      <td>January</td>\n",
       "      <td>2011</td>\n",
       "    </tr>\n",
       "    <tr>\n",
       "      <td>1</td>\n",
       "      <td>2011-01-01 01:00:00</td>\n",
       "      <td>1</td>\n",
       "      <td>0</td>\n",
       "      <td>0</td>\n",
       "      <td>1</td>\n",
       "      <td>9.02</td>\n",
       "      <td>13.635</td>\n",
       "      <td>80</td>\n",
       "      <td>0.0</td>\n",
       "      <td>Saturday</td>\n",
       "      <td>1</td>\n",
       "      <td>1</td>\n",
       "      <td>January</td>\n",
       "      <td>2011</td>\n",
       "    </tr>\n",
       "    <tr>\n",
       "      <td>2</td>\n",
       "      <td>2011-01-01 02:00:00</td>\n",
       "      <td>1</td>\n",
       "      <td>0</td>\n",
       "      <td>0</td>\n",
       "      <td>1</td>\n",
       "      <td>9.02</td>\n",
       "      <td>13.635</td>\n",
       "      <td>80</td>\n",
       "      <td>0.0</td>\n",
       "      <td>Saturday</td>\n",
       "      <td>1</td>\n",
       "      <td>2</td>\n",
       "      <td>January</td>\n",
       "      <td>2011</td>\n",
       "    </tr>\n",
       "  </tbody>\n",
       "</table>\n",
       "</div>"
      ],
      "text/plain": [
       "             datetime  season  holiday  workingday  weather  temp   atemp  \\\n",
       "0 2011-01-01 00:00:00       1        0           0        1  9.84  14.395   \n",
       "1 2011-01-01 01:00:00       1        0           0        1  9.02  13.635   \n",
       "2 2011-01-01 02:00:00       1        0           0        1  9.02  13.635   \n",
       "\n",
       "   humidity  windspeed       day  date  hour    month  year  \n",
       "0        81        0.0  Saturday     1     0  January  2011  \n",
       "1        80        0.0  Saturday     1     1  January  2011  \n",
       "2        80        0.0  Saturday     1     2  January  2011  "
      ]
     },
     "execution_count": 16,
     "metadata": {},
     "output_type": "execute_result"
    }
   ],
   "source": [
    "#New values extracted from datetime -> day, date, hour, month, year\n",
    "df_alldata['day'] = df_alldata['datetime'].apply(lambda x: calendar.day_name[x.weekday()])\n",
    "df_alldata['date'] = df_alldata['datetime'].apply(lambda x: x.day)\n",
    "df_alldata['hour'] = df_alldata['datetime'].apply(lambda x: x.hour)\n",
    "df_alldata['month'] = df_alldata['datetime'].apply(lambda x: calendar.month_name[x.month])\n",
    "df_alldata['year'] = df_alldata['datetime'].apply(lambda x:x.year)\n",
    "\n",
    "df_alldata.head(3)"
   ]
  },
  {
   "cell_type": "code",
   "execution_count": 17,
   "metadata": {},
   "outputs": [],
   "source": [
    "#For simplicity of our model\n",
    "df_alldata['year'] = df_alldata['year'].map({2011:0, 2012:1})"
   ]
  },
  {
   "cell_type": "code",
   "execution_count": 20,
   "metadata": {},
   "outputs": [],
   "source": [
    "#Let's drop datetime column as we extracted information\n",
    "df_alldata.drop('datetime', inplace=True, axis=1)"
   ]
  },
  {
   "cell_type": "code",
   "execution_count": 18,
   "metadata": {},
   "outputs": [],
   "source": [
    "#Let's change few more cols as per their values\n",
    "df_alldata['season'] = df_alldata['season'].map({1:'Spring', 2:'Summer', 3:'Fall', 4:'Winter'})"
   ]
  },
  {
   "cell_type": "code",
   "execution_count": 19,
   "metadata": {},
   "outputs": [],
   "source": [
    "df_alldata['weather'] = df_alldata['weather'].map({1:'Clear-Cloudy', 2:'Misty-Cloudy', 3:'LightRain-Storm', 4:'Rain-Ice'})"
   ]
  },
  {
   "cell_type": "code",
   "execution_count": 21,
   "metadata": {},
   "outputs": [
    {
     "data": {
      "text/plain": [
       "season         object\n",
       "holiday         int64\n",
       "workingday      int64\n",
       "weather        object\n",
       "temp          float64\n",
       "atemp         float64\n",
       "humidity        int64\n",
       "windspeed     float64\n",
       "day            object\n",
       "date            int64\n",
       "hour            int64\n",
       "month          object\n",
       "year            int64\n",
       "dtype: object"
      ]
     },
     "execution_count": 21,
     "metadata": {},
     "output_type": "execute_result"
    }
   ],
   "source": [
    "#Let's check dataset datatypes\n",
    "df_alldata.dtypes"
   ]
  },
  {
   "cell_type": "code",
   "execution_count": 22,
   "metadata": {},
   "outputs": [
    {
     "data": {
      "text/plain": [
       "Index(['season', 'weather', 'day', 'month'], dtype='object')"
      ]
     },
     "execution_count": 22,
     "metadata": {},
     "output_type": "execute_result"
    }
   ],
   "source": [
    "#Let's get catg features\n",
    "catg_feats = df_alldata.dtypes[df_alldata.dtypes == 'object'].index\n",
    "catg_feats"
   ]
  },
  {
   "cell_type": "code",
   "execution_count": 23,
   "metadata": {},
   "outputs": [],
   "source": [
    "#Let's onehot encode these categorical feats\n",
    "for col in catg_feats:\n",
    "    df_temp = pd.get_dummies(df_alldata[col], prefix=col)\n",
    "    dcol = df_temp.columns[0]\n",
    "    df_temp.drop(dcol, inplace=True, axis=1) #Dropping dummy variable trap col\n",
    "    df_alldata.drop(col, inplace=True, axis=1) #Dropping original column\n",
    "    df_alldata = pd.concat([df_alldata, df_temp], axis=1).reset_index(drop=True)"
   ]
  },
  {
   "cell_type": "code",
   "execution_count": 24,
   "metadata": {},
   "outputs": [
    {
     "data": {
      "text/html": [
       "<div>\n",
       "<style scoped>\n",
       "    .dataframe tbody tr th:only-of-type {\n",
       "        vertical-align: middle;\n",
       "    }\n",
       "\n",
       "    .dataframe tbody tr th {\n",
       "        vertical-align: top;\n",
       "    }\n",
       "\n",
       "    .dataframe thead th {\n",
       "        text-align: right;\n",
       "    }\n",
       "</style>\n",
       "<table border=\"1\" class=\"dataframe\">\n",
       "  <thead>\n",
       "    <tr style=\"text-align: right;\">\n",
       "      <th></th>\n",
       "      <th>holiday</th>\n",
       "      <th>workingday</th>\n",
       "      <th>temp</th>\n",
       "      <th>atemp</th>\n",
       "      <th>humidity</th>\n",
       "      <th>windspeed</th>\n",
       "      <th>date</th>\n",
       "      <th>hour</th>\n",
       "      <th>year</th>\n",
       "      <th>season_Spring</th>\n",
       "      <th>...</th>\n",
       "      <th>month_December</th>\n",
       "      <th>month_February</th>\n",
       "      <th>month_January</th>\n",
       "      <th>month_July</th>\n",
       "      <th>month_June</th>\n",
       "      <th>month_March</th>\n",
       "      <th>month_May</th>\n",
       "      <th>month_November</th>\n",
       "      <th>month_October</th>\n",
       "      <th>month_September</th>\n",
       "    </tr>\n",
       "  </thead>\n",
       "  <tbody>\n",
       "    <tr>\n",
       "      <td>0</td>\n",
       "      <td>0</td>\n",
       "      <td>0</td>\n",
       "      <td>9.84</td>\n",
       "      <td>14.395</td>\n",
       "      <td>81</td>\n",
       "      <td>0.0</td>\n",
       "      <td>1</td>\n",
       "      <td>0</td>\n",
       "      <td>0</td>\n",
       "      <td>1</td>\n",
       "      <td>...</td>\n",
       "      <td>0</td>\n",
       "      <td>0</td>\n",
       "      <td>1</td>\n",
       "      <td>0</td>\n",
       "      <td>0</td>\n",
       "      <td>0</td>\n",
       "      <td>0</td>\n",
       "      <td>0</td>\n",
       "      <td>0</td>\n",
       "      <td>0</td>\n",
       "    </tr>\n",
       "    <tr>\n",
       "      <td>1</td>\n",
       "      <td>0</td>\n",
       "      <td>0</td>\n",
       "      <td>9.02</td>\n",
       "      <td>13.635</td>\n",
       "      <td>80</td>\n",
       "      <td>0.0</td>\n",
       "      <td>1</td>\n",
       "      <td>1</td>\n",
       "      <td>0</td>\n",
       "      <td>1</td>\n",
       "      <td>...</td>\n",
       "      <td>0</td>\n",
       "      <td>0</td>\n",
       "      <td>1</td>\n",
       "      <td>0</td>\n",
       "      <td>0</td>\n",
       "      <td>0</td>\n",
       "      <td>0</td>\n",
       "      <td>0</td>\n",
       "      <td>0</td>\n",
       "      <td>0</td>\n",
       "    </tr>\n",
       "    <tr>\n",
       "      <td>2</td>\n",
       "      <td>0</td>\n",
       "      <td>0</td>\n",
       "      <td>9.02</td>\n",
       "      <td>13.635</td>\n",
       "      <td>80</td>\n",
       "      <td>0.0</td>\n",
       "      <td>1</td>\n",
       "      <td>2</td>\n",
       "      <td>0</td>\n",
       "      <td>1</td>\n",
       "      <td>...</td>\n",
       "      <td>0</td>\n",
       "      <td>0</td>\n",
       "      <td>1</td>\n",
       "      <td>0</td>\n",
       "      <td>0</td>\n",
       "      <td>0</td>\n",
       "      <td>0</td>\n",
       "      <td>0</td>\n",
       "      <td>0</td>\n",
       "      <td>0</td>\n",
       "    </tr>\n",
       "  </tbody>\n",
       "</table>\n",
       "<p>3 rows × 32 columns</p>\n",
       "</div>"
      ],
      "text/plain": [
       "   holiday  workingday  temp   atemp  humidity  windspeed  date  hour  year  \\\n",
       "0        0           0  9.84  14.395        81        0.0     1     0     0   \n",
       "1        0           0  9.02  13.635        80        0.0     1     1     0   \n",
       "2        0           0  9.02  13.635        80        0.0     1     2     0   \n",
       "\n",
       "   season_Spring  ...  month_December  month_February  month_January  \\\n",
       "0              1  ...               0               0              1   \n",
       "1              1  ...               0               0              1   \n",
       "2              1  ...               0               0              1   \n",
       "\n",
       "   month_July  month_June  month_March  month_May  month_November  \\\n",
       "0           0           0            0          0               0   \n",
       "1           0           0            0          0               0   \n",
       "2           0           0            0          0               0   \n",
       "\n",
       "   month_October  month_September  \n",
       "0              0                0  \n",
       "1              0                0  \n",
       "2              0                0  \n",
       "\n",
       "[3 rows x 32 columns]"
      ]
     },
     "execution_count": 24,
     "metadata": {},
     "output_type": "execute_result"
    }
   ],
   "source": [
    "df_alldata.head(3)"
   ]
  },
  {
   "cell_type": "code",
   "execution_count": 25,
   "metadata": {
    "scrolled": false
   },
   "outputs": [
    {
     "data": {
      "text/plain": [
       "holiday                      int64\n",
       "workingday                   int64\n",
       "temp                       float64\n",
       "atemp                      float64\n",
       "humidity                     int64\n",
       "windspeed                  float64\n",
       "date                         int64\n",
       "hour                         int64\n",
       "year                         int64\n",
       "season_Spring                uint8\n",
       "season_Summer                uint8\n",
       "season_Winter                uint8\n",
       "weather_LightRain-Storm      uint8\n",
       "weather_Misty-Cloudy         uint8\n",
       "weather_Rain-Ice             uint8\n",
       "day_Monday                   uint8\n",
       "day_Saturday                 uint8\n",
       "day_Sunday                   uint8\n",
       "day_Thursday                 uint8\n",
       "day_Tuesday                  uint8\n",
       "day_Wednesday                uint8\n",
       "month_August                 uint8\n",
       "month_December               uint8\n",
       "month_February               uint8\n",
       "month_January                uint8\n",
       "month_July                   uint8\n",
       "month_June                   uint8\n",
       "month_March                  uint8\n",
       "month_May                    uint8\n",
       "month_November               uint8\n",
       "month_October                uint8\n",
       "month_September              uint8\n",
       "dtype: object"
      ]
     },
     "execution_count": 25,
     "metadata": {},
     "output_type": "execute_result"
    }
   ],
   "source": [
    "df_alldata.dtypes"
   ]
  },
  {
   "cell_type": "markdown",
   "metadata": {},
   "source": [
    "## Preprocessing for Modelling"
   ]
  },
  {
   "cell_type": "code",
   "execution_count": null,
   "metadata": {},
   "outputs": [],
   "source": [
    "#For submission dataframe saving timestamp\n",
    "srs_timestamp = df_test['datetime']"
   ]
  },
  {
   "cell_type": "code",
   "execution_count": 26,
   "metadata": {},
   "outputs": [
    {
     "data": {
      "text/plain": [
       "((10886, 32), (6493, 32))"
      ]
     },
     "execution_count": 26,
     "metadata": {},
     "output_type": "execute_result"
    }
   ],
   "source": [
    "#Let's split train and test set\n",
    "df_train = df_alldata[:ntrain]\n",
    "df_test = df_alldata[ntrain:]\n",
    "\n",
    "df_train.shape, df_test.shape"
   ]
  },
  {
   "cell_type": "code",
   "execution_count": 27,
   "metadata": {
    "scrolled": true
   },
   "outputs": [
    {
     "data": {
      "text/plain": [
       "10886"
      ]
     },
     "execution_count": 27,
     "metadata": {},
     "output_type": "execute_result"
    }
   ],
   "source": [
    "## Setting up target variable\n",
    "target = np.log1p(df_target['count'])\n",
    "\n",
    "len(target)"
   ]
  },
  {
   "cell_type": "markdown",
   "metadata": {},
   "source": [
    "## Defining Cross Validation and Error Function"
   ]
  },
  {
   "cell_type": "code",
   "execution_count": 30,
   "metadata": {},
   "outputs": [],
   "source": [
    "from sklearn.model_selection import KFold\n",
    "\n",
    "cross_val = KFold(n_splits=10, random_state=42, shuffle=True)"
   ]
  },
  {
   "cell_type": "code",
   "execution_count": 31,
   "metadata": {},
   "outputs": [],
   "source": [
    "#Calculating RMSLE\n",
    "def rmsle(y, y_pred):\n",
    "    assert len(y) == len(y_pred), 'Error in actual and prediction length.'\n",
    "    return np.sqrt(np.mean((np.log1p(y) - np.log1p(y_pred))**2))\n",
    "\n",
    "#np.sqrt(mean_squared_log_error(y, y_pred))"
   ]
  },
  {
   "cell_type": "markdown",
   "metadata": {},
   "source": [
    "## Model and Parameter Tuning"
   ]
  },
  {
   "cell_type": "code",
   "execution_count": 34,
   "metadata": {},
   "outputs": [],
   "source": [
    "#List of models to try\n",
    "import xgboost as xgb\n",
    "from sklearn.linear_model import RidgeCV, Ridge, LassoCV, Lasso, ElasticNetCV, ElasticNet\n",
    "from sklearn.ensemble import RandomForestRegressor, GradientBoostingRegressor\n",
    "import lightgbm as lgbm\n",
    "from sklearn.model_selection import train_test_split, KFold, GridSearchCV\n",
    "from sklearn.metrics import mean_squared_log_error"
   ]
  },
  {
   "cell_type": "code",
   "execution_count": 35,
   "metadata": {},
   "outputs": [],
   "source": [
    "X_train, X_test, y_train, y_test = train_test_split(df_train.values, target, test_size=0.3, random_state=42)"
   ]
  },
  {
   "cell_type": "code",
   "execution_count": 36,
   "metadata": {},
   "outputs": [
    {
     "data": {
      "text/plain": [
       "((7620, 32), (3266, 32))"
      ]
     },
     "execution_count": 36,
     "metadata": {},
     "output_type": "execute_result"
    }
   ],
   "source": [
    "X_train.shape, X_test.shape"
   ]
  },
  {
   "cell_type": "code",
   "execution_count": 37,
   "metadata": {},
   "outputs": [],
   "source": [
    "#Function to store model parameters and score\n",
    "\n",
    "cols = ['Model', 'Parameters', 'Xtrain_RMSLE', 'Xtest_RMSLE', 'dftrain_RMSLE', 'exp_dftrain_RMSLE']\n",
    "df_model_scores = pd.DataFrame(columns=cols)\n",
    "\n",
    "\n",
    "def model_scores(model, df_model_scores = df_model_scores, X_train = X_train, y_train = y_train, X_test = X_test, \n",
    "                 y_test = y_test, df_train = df_train, target = target):\n",
    "    #Fit with Xtrain\n",
    "    model.fit(X_train, y_train)\n",
    "    \n",
    "    #Predict X_train\n",
    "    pred = model.predict(X_train)\n",
    "    \n",
    "    #X_train RMSLE\n",
    "    xtr_rmsle = rmsle(y_train, pred)\n",
    "    \n",
    "    #Predict X_test\n",
    "    pred = model.predict(X_test)\n",
    "    \n",
    "    #X_test rmsle\n",
    "    xts_rmsle = rmsle(y_test, pred)\n",
    "    \n",
    "    #Predict df_train\n",
    "    model.fit(df_train.values, target)\n",
    "    pred = model.predict(df_train.values)\n",
    "    dftr_rmsle = rmsle(target, pred)\n",
    "    expdftr_rmsle = rmsle(np.expm1(target), np.expm1(pred))\n",
    "    \n",
    "    #setting up values for data frame\n",
    "    mdl = model.__class__.__name__\n",
    "    param = str(model.get_params())\n",
    "    \n",
    "    data = {'Model':[mdl], 'Parameters':[param], 'Xtrain_RMSLE':[xtr_rmsle], 'Xtest_RMSLE':[xts_rmsle], \n",
    "                           'dftrain_RMSLE':[dftr_rmsle], 'exp_dftrain_RMSLE':[expdftr_rmsle]}\n",
    "    \n",
    "    df_temp = pd.DataFrame(data)\n",
    "    \n",
    "    df_model_scores = pd.concat([df_model_scores, df_temp]).reset_index(drop=True)\n",
    "    \n",
    "    return df_model_scores"
   ]
  },
  {
   "cell_type": "markdown",
   "metadata": {},
   "source": [
    "-- Backward Elimination --"
   ]
  },
  {
   "cell_type": "code",
   "execution_count": 52,
   "metadata": {},
   "outputs": [],
   "source": [
    "import statsmodels.api as sm\n",
    "\n",
    "\n",
    "def BackElimination(x,y, srs_cols):\n",
    "    \n",
    "    cont=1\n",
    "    while(cont==1):\n",
    "        \n",
    "        print('--------------------------------------------')\n",
    "        regressor_OLS = sm.OLS(y.astype(float), x.astype(float)).fit()\n",
    "        #regressor_OLS.summary()\n",
    "\n",
    "        #No. of columns with pvalue greater than 0.05\n",
    "        pvals = regressor_OLS.pvalues\n",
    "        pvals = pvals[pvals>0.05]\n",
    "        pvals = [round(val, 4) for val in pvals]\n",
    "        print('No. of Pval greater than 0.05: ',len(pvals))\n",
    "\n",
    "        #AdjRSqu Value\n",
    "        AdjRSqu = regressor_OLS.rsquared_adj\n",
    "        AdjRSqu = round(AdjRSqu,4)\n",
    "        print('Adjusted RSqu Value: ',AdjRSqu)\n",
    "\n",
    "        #Maximum Pvalue\n",
    "        MaxPval = max(regressor_OLS.pvalues)\n",
    "        MaxPval = round(MaxPval,4)\n",
    "        print('Max Pvalue: ',MaxPval)\n",
    "\n",
    "        #Index of max pvalue\n",
    "        for i, eachval in enumerate(regressor_OLS.pvalues):\n",
    "            if round(eachval,4) == MaxPval:\n",
    "                maxpidx = i+1\n",
    "        print('Index of Max Pvalue: ', maxpidx)\n",
    "\n",
    "        #Delete maxpindex from original array\n",
    "        x = np.delete(x, maxpidx,1)\n",
    "        \n",
    "        #Drop corresponding column name        \n",
    "        print('Column to Drop - ',srs_cols[maxpidx])\n",
    "        srs_cols = srs_cols.drop(index=[maxpidx])\n",
    "        srs_cols = srs_cols.reset_index(drop=True)\n",
    "        \n",
    "        #Get new AdjRSqu Value\n",
    "        tmp_regressor_OLS = sm.OLS(y.astype(float), x.astype(float)).fit()\n",
    "        NewAdjRSqu = tmp_regressor_OLS.rsquared_adj\n",
    "        NewAdjRSqu = round(NewAdjRSqu,4)\n",
    "        print('NewAdjRSqu - ',NewAdjRSqu)\n",
    "        \n",
    "        if NewAdjRSqu < AdjRSqu:\n",
    "            cont=0\n",
    "            print('HALT at less New AdjRSqu - ',NewAdjRSqu)\n",
    "        elif len(x[0])<20:\n",
    "            cont=0\n",
    "            print('HALT at Shape Reduction')"
   ]
  },
  {
   "cell_type": "code",
   "execution_count": 55,
   "metadata": {},
   "outputs": [
    {
     "data": {
      "text/plain": [
       "0       holiday\n",
       "1    workingday\n",
       "2          temp\n",
       "Name: Columns, dtype: object"
      ]
     },
     "execution_count": 55,
     "metadata": {},
     "output_type": "execute_result"
    }
   ],
   "source": [
    "cols = df_train.columns\n",
    "x = X_train\n",
    "y = y_train\n",
    "\n",
    "cols = pd.Series(data=cols, name='Columns')\n",
    "cols[:3]"
   ]
  },
  {
   "cell_type": "code",
   "execution_count": 56,
   "metadata": {},
   "outputs": [
    {
     "name": "stdout",
     "output_type": "stream",
     "text": [
      "--------------------------------------------\n",
      "No. of Pval greater than 0.05:  3\n",
      "Adjusted RSqu Value:  0.5044\n",
      "Max Pvalue:  0.4806\n",
      "Index of Max Pvalue:  27\n",
      "Column to Drop -  month_March\n",
      "NewAdjRSqu -  0.5044\n",
      "--------------------------------------------\n",
      "No. of Pval greater than 0.05:  5\n",
      "Adjusted RSqu Value:  0.5044\n",
      "Max Pvalue:  0.9024\n",
      "Index of Max Pvalue:  25\n",
      "Column to Drop -  month_July\n",
      "NewAdjRSqu -  0.5044\n",
      "--------------------------------------------\n",
      "No. of Pval greater than 0.05:  6\n",
      "Adjusted RSqu Value:  0.5044\n",
      "Max Pvalue:  0.9024\n",
      "Index of Max Pvalue:  25\n",
      "Column to Drop -  month_June\n",
      "NewAdjRSqu -  0.5044\n",
      "--------------------------------------------\n",
      "No. of Pval greater than 0.05:  5\n",
      "Adjusted RSqu Value:  0.5044\n",
      "Max Pvalue:  0.9886\n",
      "Index of Max Pvalue:  25\n",
      "Column to Drop -  month_May\n",
      "NewAdjRSqu -  0.5029\n",
      "HALT at less New AdjRSqu -  0.5029\n"
     ]
    }
   ],
   "source": [
    "BackElimination(x, y, cols)"
   ]
  },
  {
   "cell_type": "code",
   "execution_count": 65,
   "metadata": {},
   "outputs": [
    {
     "data": {
      "text/plain": [
       "((7293, 28), (3593, 28))"
      ]
     },
     "execution_count": 65,
     "metadata": {},
     "output_type": "execute_result"
    }
   ],
   "source": [
    "X_train1, X_test1, y_train1, y_test1 = train_test_split(df_train.values, target, test_size=0.33, random_state=42)\n",
    "X_train1.shape, X_test1.shape"
   ]
  },
  {
   "cell_type": "markdown",
   "metadata": {},
   "source": [
    "--- Backward Elimination --"
   ]
  },
  {
   "cell_type": "markdown",
   "metadata": {},
   "source": [
    "### XGBoost Model"
   ]
  },
  {
   "cell_type": "code",
   "execution_count": 66,
   "metadata": {},
   "outputs": [],
   "source": [
    "#Let's find optimum parameters for each model\n",
    "model_xgb = xgb.XGBRegressor(n_estimators=1000, n_jobs=-1, objective='reg:squarederror', random_state=42)"
   ]
  },
  {
   "cell_type": "code",
   "execution_count": 67,
   "metadata": {},
   "outputs": [],
   "source": [
    "xgb_param_grid={'max_depth':[5, 6],\n",
    "               'learning_rate':[0.1, 0.01, 0.03],\n",
    "               'booster':['gbtree', 'gblinear', 'dart']}"
   ]
  },
  {
   "cell_type": "code",
   "execution_count": 68,
   "metadata": {},
   "outputs": [
    {
     "name": "stdout",
     "output_type": "stream",
     "text": [
      "Fitting 10 folds for each of 18 candidates, totalling 180 fits\n"
     ]
    },
    {
     "name": "stderr",
     "output_type": "stream",
     "text": [
      "[Parallel(n_jobs=-1)]: Using backend LokyBackend with 4 concurrent workers.\n",
      "[Parallel(n_jobs=-1)]: Done  42 tasks      | elapsed:  2.9min\n",
      "[Parallel(n_jobs=-1)]: Done 180 out of 180 | elapsed: 93.6min finished\n"
     ]
    },
    {
     "name": "stdout",
     "output_type": "stream",
     "text": [
      "Best Score: 0.9591855294833118\n",
      "Parameters: {'booster': 'dart', 'learning_rate': 0.03, 'max_depth': 6}\n"
     ]
    }
   ],
   "source": [
    "#Implement Grid Search over XGBoost\n",
    "gs_xgb_model = GridSearchCV(param_grid=xgb_param_grid, estimator=model_xgb, cv=cross_val, verbose=1, n_jobs=-1)\n",
    "gs_xgb_model.fit(X_train1, y_train1)\n",
    "print('Best Score:', gs_xgb_model.best_score_)\n",
    "print('Parameters:', gs_xgb_model.best_params_)"
   ]
  },
  {
   "cell_type": "code",
   "execution_count": null,
   "metadata": {},
   "outputs": [],
   "source": [
    "xgb_param_grid = {'booster':['gbtree', 'gblinear', 'dart']}"
   ]
  },
  {
   "cell_type": "code",
   "execution_count": 69,
   "metadata": {
    "scrolled": true
   },
   "outputs": [
    {
     "data": {
      "text/html": [
       "<div>\n",
       "<style scoped>\n",
       "    .dataframe tbody tr th:only-of-type {\n",
       "        vertical-align: middle;\n",
       "    }\n",
       "\n",
       "    .dataframe tbody tr th {\n",
       "        vertical-align: top;\n",
       "    }\n",
       "\n",
       "    .dataframe thead th {\n",
       "        text-align: right;\n",
       "    }\n",
       "</style>\n",
       "<table border=\"1\" class=\"dataframe\">\n",
       "  <thead>\n",
       "    <tr style=\"text-align: right;\">\n",
       "      <th></th>\n",
       "      <th>Model</th>\n",
       "      <th>Parameters</th>\n",
       "      <th>Xtrain_RMSLE</th>\n",
       "      <th>Xtest_RMSLE</th>\n",
       "      <th>dftrain_RMSLE</th>\n",
       "      <th>exp_dftrain_RMSLE</th>\n",
       "    </tr>\n",
       "  </thead>\n",
       "  <tbody>\n",
       "    <tr>\n",
       "      <td>0</td>\n",
       "      <td>XGBRegressor</td>\n",
       "      <td>{'base_score': 0.5, 'booster': 'gbtree', 'cols...</td>\n",
       "      <td>0.033884</td>\n",
       "      <td>0.076625</td>\n",
       "      <td>0.039218</td>\n",
       "      <td>0.141567</td>\n",
       "    </tr>\n",
       "    <tr>\n",
       "      <td>1</td>\n",
       "      <td>XGBRegressor</td>\n",
       "      <td>{'base_score': 0.5, 'booster': 'dart', 'colsam...</td>\n",
       "      <td>0.033325</td>\n",
       "      <td>0.076397</td>\n",
       "      <td>0.039588</td>\n",
       "      <td>0.141898</td>\n",
       "    </tr>\n",
       "    <tr>\n",
       "      <td>2</td>\n",
       "      <td>XGBRegressor</td>\n",
       "      <td>{'base_score': 0.5, 'booster': 'dart', 'colsam...</td>\n",
       "      <td>0.042185</td>\n",
       "      <td>0.074946</td>\n",
       "      <td>0.047036</td>\n",
       "      <td>0.169938</td>\n",
       "    </tr>\n",
       "  </tbody>\n",
       "</table>\n",
       "</div>"
      ],
      "text/plain": [
       "          Model                                         Parameters  \\\n",
       "0  XGBRegressor  {'base_score': 0.5, 'booster': 'gbtree', 'cols...   \n",
       "1  XGBRegressor  {'base_score': 0.5, 'booster': 'dart', 'colsam...   \n",
       "2  XGBRegressor  {'base_score': 0.5, 'booster': 'dart', 'colsam...   \n",
       "\n",
       "   Xtrain_RMSLE  Xtest_RMSLE  dftrain_RMSLE  exp_dftrain_RMSLE  \n",
       "0      0.033884     0.076625       0.039218           0.141567  \n",
       "1      0.033325     0.076397       0.039588           0.141898  \n",
       "2      0.042185     0.074946       0.047036           0.169938  "
      ]
     },
     "execution_count": 69,
     "metadata": {},
     "output_type": "execute_result"
    }
   ],
   "source": [
    "#Gathering model scores\n",
    "model_xgb = xgb.XGBRegressor(n_estimators=1000, n_jobs=-1, objective='reg:squarederror', random_state=42, max_depth=6, \n",
    "                             booster='dart', learning_rate=0.03)\n",
    "df_model_scores = model_scores(model_xgb, df_model_scores)\n",
    "df_model_scores\n",
    "\n",
    "#CHANGE TO X_TRAIN1, Y_TRAIN1"
   ]
  },
  {
   "cell_type": "code",
   "execution_count": 70,
   "metadata": {},
   "outputs": [
    {
     "data": {
      "text/html": [
       "<div>\n",
       "<style scoped>\n",
       "    .dataframe tbody tr th:only-of-type {\n",
       "        vertical-align: middle;\n",
       "    }\n",
       "\n",
       "    .dataframe tbody tr th {\n",
       "        vertical-align: top;\n",
       "    }\n",
       "\n",
       "    .dataframe thead th {\n",
       "        text-align: right;\n",
       "    }\n",
       "</style>\n",
       "<table border=\"1\" class=\"dataframe\">\n",
       "  <thead>\n",
       "    <tr style=\"text-align: right;\">\n",
       "      <th></th>\n",
       "      <th>datetime</th>\n",
       "      <th>count</th>\n",
       "    </tr>\n",
       "  </thead>\n",
       "  <tbody>\n",
       "    <tr>\n",
       "      <td>0</td>\n",
       "      <td>2011-01-20 00:00:00</td>\n",
       "      <td>12.0</td>\n",
       "    </tr>\n",
       "    <tr>\n",
       "      <td>1</td>\n",
       "      <td>2011-01-20 01:00:00</td>\n",
       "      <td>4.0</td>\n",
       "    </tr>\n",
       "    <tr>\n",
       "      <td>2</td>\n",
       "      <td>2011-01-20 02:00:00</td>\n",
       "      <td>3.0</td>\n",
       "    </tr>\n",
       "    <tr>\n",
       "      <td>3</td>\n",
       "      <td>2011-01-20 03:00:00</td>\n",
       "      <td>1.0</td>\n",
       "    </tr>\n",
       "    <tr>\n",
       "      <td>4</td>\n",
       "      <td>2011-01-20 04:00:00</td>\n",
       "      <td>1.0</td>\n",
       "    </tr>\n",
       "  </tbody>\n",
       "</table>\n",
       "</div>"
      ],
      "text/plain": [
       "              datetime  count\n",
       "0  2011-01-20 00:00:00   12.0\n",
       "1  2011-01-20 01:00:00    4.0\n",
       "2  2011-01-20 02:00:00    3.0\n",
       "3  2011-01-20 03:00:00    1.0\n",
       "4  2011-01-20 04:00:00    1.0"
      ]
     },
     "execution_count": 70,
     "metadata": {},
     "output_type": "execute_result"
    }
   ],
   "source": [
    "#Model Training\n",
    "model_xgb.fit(X_train, y_train)\n",
    "\n",
    "#Model Prediction\n",
    "pred=model_xgb.predict(df_test.values)\n",
    "\n",
    "#Submission\n",
    "pred = np.expm1(pred)\n",
    "\n",
    "#Rounding prediction\n",
    "sr_pred = pd.Series(data=pred, name='count')\n",
    "sr_pred = sr_pred.apply(lambda x: round(x,0))\n",
    "\n",
    "submission = pd.DataFrame({'datetime':srs_timestamp, 'count':sr_pred})\n",
    "submission.head()"
   ]
  },
  {
   "cell_type": "code",
   "execution_count": 71,
   "metadata": {},
   "outputs": [],
   "source": [
    "#Saving Submission\n",
    "submission.to_csv('submission/1119_xgb.csv', index=False)"
   ]
  },
  {
   "cell_type": "markdown",
   "metadata": {},
   "source": [
    "### Submission Secured 0.40167"
   ]
  },
  {
   "cell_type": "markdown",
   "metadata": {},
   "source": [
    "### Ridge"
   ]
  },
  {
   "cell_type": "code",
   "execution_count": 184,
   "metadata": {},
   "outputs": [],
   "source": [
    "alphas_ridge = [14.5, 14.6, 14.7, 14.8, 14.9, 15, 15.1, 15.2, 15.3, 15.4, 15.5]\n",
    "alphas_lasso = [5e-05, 0.0001, 0.0002, 0.0003, 0.0004, 0.0005, 0.0006, 0.0007, 0.0008]\n",
    "elastic_alphas = [0.0001, 0.0002, 0.0003, 0.0004, 0.0005, 0.0006, 0.0007]\n",
    "elastic_l1ratio = [0.8, 0.85, 0.9, 0.95, 0.99, 1]"
   ]
  },
  {
   "cell_type": "code",
   "execution_count": 192,
   "metadata": {},
   "outputs": [],
   "source": [
    "#RidgeCV\n",
    "rcv = RidgeCV(alphas=alphas_ridge, cv=10, scoring='neg_mean_squared_log_error')"
   ]
  },
  {
   "cell_type": "code",
   "execution_count": 193,
   "metadata": {},
   "outputs": [
    {
     "data": {
      "text/plain": [
       "RidgeCV(alphas=array([14.5, 14.6, 14.7, 14.8, 14.9, 15. , 15.1, 15.2, 15.3, 15.4, 15.5]),\n",
       "        cv=10, fit_intercept=True, gcv_mode=None, normalize=False,\n",
       "        scoring='neg_mean_squared_log_error', store_cv_values=False)"
      ]
     },
     "execution_count": 193,
     "metadata": {},
     "output_type": "execute_result"
    }
   ],
   "source": [
    "rcv.fit(X_train, y_train)"
   ]
  },
  {
   "cell_type": "code",
   "execution_count": 194,
   "metadata": {},
   "outputs": [
    {
     "data": {
      "text/plain": [
       "14.5"
      ]
     },
     "execution_count": 194,
     "metadata": {},
     "output_type": "execute_result"
    }
   ],
   "source": [
    "rcv.alpha_"
   ]
  },
  {
   "cell_type": "code",
   "execution_count": 197,
   "metadata": {},
   "outputs": [
    {
     "data": {
      "text/plain": [
       "0.1"
      ]
     },
     "execution_count": 197,
     "metadata": {},
     "output_type": "execute_result"
    }
   ],
   "source": [
    "#Finding best alpha round 2\n",
    "alphas_ridge = [0.1, 1, 5, 8, 10, 12, 14, 14.5]\n",
    "rcv = RidgeCV(alphas_ridge, cv=10, scoring='neg_mean_squared_log_error')\n",
    "rcv.fit(X_train, y_train)\n",
    "rcv.alpha_"
   ]
  },
  {
   "cell_type": "code",
   "execution_count": 198,
   "metadata": {},
   "outputs": [
    {
     "data": {
      "text/plain": [
       "0.001"
      ]
     },
     "execution_count": 198,
     "metadata": {},
     "output_type": "execute_result"
    }
   ],
   "source": [
    "#Finding best alpha round 3\n",
    "alphas_ridge = [0.1, 0.01, 0.5, 0.001, 0.3]\n",
    "rcv = RidgeCV(alphas_ridge, cv=10, scoring='neg_mean_squared_log_error')\n",
    "rcv.fit(X_train, y_train)\n",
    "rcv.alpha_"
   ]
  },
  {
   "cell_type": "code",
   "execution_count": 199,
   "metadata": {},
   "outputs": [
    {
     "data": {
      "text/plain": [
       "0.001"
      ]
     },
     "execution_count": 199,
     "metadata": {},
     "output_type": "execute_result"
    }
   ],
   "source": [
    "#Finding best alpha round 4\n",
    "alphas_ridge = [0.001, 0.005, 0.015, 0.003, 0.008]\n",
    "rcv = RidgeCV(alphas_ridge, cv=10, scoring='neg_mean_squared_log_error')\n",
    "rcv.fit(X_train, y_train)\n",
    "rcv.alpha_"
   ]
  },
  {
   "cell_type": "code",
   "execution_count": 212,
   "metadata": {},
   "outputs": [],
   "source": [
    "model_ridge = Ridge(alpha=0.001, max_iter=10000, random_state=42)"
   ]
  },
  {
   "cell_type": "code",
   "execution_count": 213,
   "metadata": {},
   "outputs": [
    {
     "data": {
      "text/html": [
       "<div>\n",
       "<style scoped>\n",
       "    .dataframe tbody tr th:only-of-type {\n",
       "        vertical-align: middle;\n",
       "    }\n",
       "\n",
       "    .dataframe tbody tr th {\n",
       "        vertical-align: top;\n",
       "    }\n",
       "\n",
       "    .dataframe thead th {\n",
       "        text-align: right;\n",
       "    }\n",
       "</style>\n",
       "<table border=\"1\" class=\"dataframe\">\n",
       "  <thead>\n",
       "    <tr style=\"text-align: right;\">\n",
       "      <th></th>\n",
       "      <th>Model</th>\n",
       "      <th>Parameters</th>\n",
       "      <th>Xtrain_RMSLE</th>\n",
       "      <th>Xtest_RMSLE</th>\n",
       "      <th>dftrain_RMSLE</th>\n",
       "      <th>exp_dftrain_RMSLE</th>\n",
       "    </tr>\n",
       "  </thead>\n",
       "  <tbody>\n",
       "    <tr>\n",
       "      <td>0</td>\n",
       "      <td>XGBRegressor</td>\n",
       "      <td>{'base_score': 0.5, 'booster': 'gbtree', 'cols...</td>\n",
       "      <td>0.033884</td>\n",
       "      <td>0.076823</td>\n",
       "      <td>0.039218</td>\n",
       "      <td>0.141567</td>\n",
       "    </tr>\n",
       "    <tr>\n",
       "      <td>1</td>\n",
       "      <td>Ridge</td>\n",
       "      <td>{'alpha': 0.001, 'copy_X': True, 'fit_intercep...</td>\n",
       "      <td>0.228578</td>\n",
       "      <td>0.227614</td>\n",
       "      <td>0.228473</td>\n",
       "      <td>1.001155</td>\n",
       "    </tr>\n",
       "  </tbody>\n",
       "</table>\n",
       "</div>"
      ],
      "text/plain": [
       "          Model                                         Parameters  \\\n",
       "0  XGBRegressor  {'base_score': 0.5, 'booster': 'gbtree', 'cols...   \n",
       "1         Ridge  {'alpha': 0.001, 'copy_X': True, 'fit_intercep...   \n",
       "\n",
       "   Xtrain_RMSLE  Xtest_RMSLE  dftrain_RMSLE  exp_dftrain_RMSLE  \n",
       "0      0.033884     0.076823       0.039218           0.141567  \n",
       "1      0.228578     0.227614       0.228473           1.001155  "
      ]
     },
     "execution_count": 213,
     "metadata": {},
     "output_type": "execute_result"
    }
   ],
   "source": [
    "df_model_scores = model_scores(model_ridge)\n",
    "df_model_scores"
   ]
  },
  {
   "cell_type": "markdown",
   "metadata": {},
   "source": [
    "### Lasso"
   ]
  },
  {
   "cell_type": "code",
   "execution_count": 204,
   "metadata": {},
   "outputs": [],
   "source": [
    "lcv = LassoCV(alphas=alphas_lasso, max_iter=1000, cv=10, n_jobs=-1, selection='random', random_state=42, verbose=1)"
   ]
  },
  {
   "cell_type": "code",
   "execution_count": 205,
   "metadata": {},
   "outputs": [
    {
     "name": "stderr",
     "output_type": "stream",
     "text": [
      "[Parallel(n_jobs=-1)]: Using backend ThreadingBackend with 4 concurrent workers.\n",
      "..........................................................................................[Parallel(n_jobs=-1)]: Done  10 out of  10 | elapsed:    0.0s finished\n"
     ]
    },
    {
     "data": {
      "text/plain": [
       "0.0002"
      ]
     },
     "execution_count": 205,
     "metadata": {},
     "output_type": "execute_result"
    }
   ],
   "source": [
    "lcv.fit(X_train, y_train)\n",
    "lcv.alpha_"
   ]
  },
  {
   "cell_type": "code",
   "execution_count": 207,
   "metadata": {},
   "outputs": [
    {
     "name": "stderr",
     "output_type": "stream",
     "text": [
      "[Parallel(n_jobs=-1)]: Using backend ThreadingBackend with 4 concurrent workers.\n",
      "........................................[Parallel(n_jobs=-1)]: Done  10 out of  10 | elapsed:    0.0s finished\n"
     ]
    },
    {
     "data": {
      "text/plain": [
       "0.0002"
      ]
     },
     "execution_count": 207,
     "metadata": {},
     "output_type": "execute_result"
    }
   ],
   "source": [
    "#Computing best alpha round 2\n",
    "alphas = [0.0002, 0.0003, 0.00025, 0.0015]\n",
    "lcv = LassoCV(alphas = alphas, max_iter=10000, cv=10, n_jobs=-1, selection='random', random_state=42, verbose=1)\n",
    "lcv.fit(X_train, y_train)\n",
    "lcv.alpha_"
   ]
  },
  {
   "cell_type": "code",
   "execution_count": 215,
   "metadata": {},
   "outputs": [
    {
     "data": {
      "text/html": [
       "<div>\n",
       "<style scoped>\n",
       "    .dataframe tbody tr th:only-of-type {\n",
       "        vertical-align: middle;\n",
       "    }\n",
       "\n",
       "    .dataframe tbody tr th {\n",
       "        vertical-align: top;\n",
       "    }\n",
       "\n",
       "    .dataframe thead th {\n",
       "        text-align: right;\n",
       "    }\n",
       "</style>\n",
       "<table border=\"1\" class=\"dataframe\">\n",
       "  <thead>\n",
       "    <tr style=\"text-align: right;\">\n",
       "      <th></th>\n",
       "      <th>Model</th>\n",
       "      <th>Parameters</th>\n",
       "      <th>Xtrain_RMSLE</th>\n",
       "      <th>Xtest_RMSLE</th>\n",
       "      <th>dftrain_RMSLE</th>\n",
       "      <th>exp_dftrain_RMSLE</th>\n",
       "    </tr>\n",
       "  </thead>\n",
       "  <tbody>\n",
       "    <tr>\n",
       "      <td>0</td>\n",
       "      <td>XGBRegressor</td>\n",
       "      <td>{'base_score': 0.5, 'booster': 'gbtree', 'cols...</td>\n",
       "      <td>0.033884</td>\n",
       "      <td>0.076823</td>\n",
       "      <td>0.039218</td>\n",
       "      <td>0.141567</td>\n",
       "    </tr>\n",
       "    <tr>\n",
       "      <td>1</td>\n",
       "      <td>Ridge</td>\n",
       "      <td>{'alpha': 0.001, 'copy_X': True, 'fit_intercep...</td>\n",
       "      <td>0.228578</td>\n",
       "      <td>0.227614</td>\n",
       "      <td>0.228473</td>\n",
       "      <td>1.001155</td>\n",
       "    </tr>\n",
       "    <tr>\n",
       "      <td>2</td>\n",
       "      <td>Lasso</td>\n",
       "      <td>{'alpha': 0.0002, 'copy_X': True, 'fit_interce...</td>\n",
       "      <td>0.228607</td>\n",
       "      <td>0.227643</td>\n",
       "      <td>0.228503</td>\n",
       "      <td>1.001217</td>\n",
       "    </tr>\n",
       "    <tr>\n",
       "      <td>3</td>\n",
       "      <td>Lasso</td>\n",
       "      <td>{'alpha': 0.0002, 'copy_X': True, 'fit_interce...</td>\n",
       "      <td>0.228607</td>\n",
       "      <td>0.227641</td>\n",
       "      <td>0.228503</td>\n",
       "      <td>1.001216</td>\n",
       "    </tr>\n",
       "  </tbody>\n",
       "</table>\n",
       "</div>"
      ],
      "text/plain": [
       "          Model                                         Parameters  \\\n",
       "0  XGBRegressor  {'base_score': 0.5, 'booster': 'gbtree', 'cols...   \n",
       "1         Ridge  {'alpha': 0.001, 'copy_X': True, 'fit_intercep...   \n",
       "2         Lasso  {'alpha': 0.0002, 'copy_X': True, 'fit_interce...   \n",
       "3         Lasso  {'alpha': 0.0002, 'copy_X': True, 'fit_interce...   \n",
       "\n",
       "   Xtrain_RMSLE  Xtest_RMSLE  dftrain_RMSLE  exp_dftrain_RMSLE  \n",
       "0      0.033884     0.076823       0.039218           0.141567  \n",
       "1      0.228578     0.227614       0.228473           1.001155  \n",
       "2      0.228607     0.227643       0.228503           1.001217  \n",
       "3      0.228607     0.227641       0.228503           1.001216  "
      ]
     },
     "execution_count": 215,
     "metadata": {},
     "output_type": "execute_result"
    }
   ],
   "source": [
    "model_lasso = Lasso(alpha=0.0002, max_iter=10000, random_state=42, selection='cyclic')\n",
    "df_model_scores = model_scores(model_lasso, df_model_scores)\n",
    "df_model_scores"
   ]
  },
  {
   "cell_type": "markdown",
   "metadata": {},
   "source": [
    "### Random Forest Regressor"
   ]
  },
  {
   "cell_type": "code",
   "execution_count": 221,
   "metadata": {},
   "outputs": [
    {
     "name": "stdout",
     "output_type": "stream",
     "text": [
      "Fitting 10 folds for each of 6 candidates, totalling 60 fits\n"
     ]
    },
    {
     "name": "stderr",
     "output_type": "stream",
     "text": [
      "[Parallel(n_jobs=-1)]: Using backend LokyBackend with 4 concurrent workers.\n",
      "[Parallel(n_jobs=-1)]: Done  42 tasks      | elapsed:  8.5min\n",
      "[Parallel(n_jobs=-1)]: Done  60 out of  60 | elapsed: 25.2min finished\n"
     ]
    },
    {
     "name": "stdout",
     "output_type": "stream",
     "text": [
      "Best Score: 0.8457745443966806\n"
     ]
    },
    {
     "ename": "AttributeError",
     "evalue": "'GridSearchCV' object has no attribute 'best_param_'",
     "output_type": "error",
     "traceback": [
      "\u001b[1;31m---------------------------------------------------------------------------\u001b[0m",
      "\u001b[1;31mAttributeError\u001b[0m                            Traceback (most recent call last)",
      "\u001b[1;32m<ipython-input-221-e3179ba48e12>\u001b[0m in \u001b[0;36m<module>\u001b[1;34m\u001b[0m\n\u001b[0;32m     10\u001b[0m \u001b[1;33m\u001b[0m\u001b[0m\n\u001b[0;32m     11\u001b[0m \u001b[0mprint\u001b[0m\u001b[1;33m(\u001b[0m\u001b[1;34m'Best Score:'\u001b[0m\u001b[1;33m,\u001b[0m \u001b[0mGSearch\u001b[0m\u001b[1;33m.\u001b[0m\u001b[0mbest_score_\u001b[0m\u001b[1;33m)\u001b[0m\u001b[1;33m\u001b[0m\u001b[1;33m\u001b[0m\u001b[0m\n\u001b[1;32m---> 12\u001b[1;33m \u001b[0mprint\u001b[0m\u001b[1;33m(\u001b[0m\u001b[1;34m'Parameters:'\u001b[0m\u001b[1;33m,\u001b[0m \u001b[0mGSearch\u001b[0m\u001b[1;33m.\u001b[0m\u001b[0mbest_param_\u001b[0m\u001b[1;33m)\u001b[0m\u001b[1;33m\u001b[0m\u001b[1;33m\u001b[0m\u001b[0m\n\u001b[0m",
      "\u001b[1;31mAttributeError\u001b[0m: 'GridSearchCV' object has no attribute 'best_param_'"
     ]
    }
   ],
   "source": [
    "model_rf = RandomForestRegressor(random_state=42)\n",
    "\n",
    "grid_rf = {'max_depth':[2, 3, 5],\n",
    "           'n_estimators':[200],\n",
    "          'criterion':['mse','mae']}\n",
    "\n",
    "GSearch = GridSearchCV(param_grid=grid_rf, estimator=model_rf, cv=10, n_jobs=-1, verbose=1)\n",
    "\n",
    "GSearch.fit(X_train, y_train)\n",
    "\n",
    "print('Best Score:', GSearch.best_score_)\n",
    "print('Parameters:', GSearch.best_params_)"
   ]
  },
  {
   "cell_type": "code",
   "execution_count": 222,
   "metadata": {},
   "outputs": [
    {
     "data": {
      "text/plain": [
       "{'criterion': 'mse', 'max_depth': 5, 'n_estimators': 200}"
      ]
     },
     "execution_count": 222,
     "metadata": {},
     "output_type": "execute_result"
    }
   ],
   "source": [
    "GSearch.best_params_"
   ]
  },
  {
   "cell_type": "code",
   "execution_count": 223,
   "metadata": {},
   "outputs": [],
   "source": [
    "model_rf = RandomForestRegressor(n_estimators=200, random_state=42, max_depth=5, criterion='mse')"
   ]
  },
  {
   "cell_type": "code",
   "execution_count": 224,
   "metadata": {},
   "outputs": [
    {
     "data": {
      "text/html": [
       "<div>\n",
       "<style scoped>\n",
       "    .dataframe tbody tr th:only-of-type {\n",
       "        vertical-align: middle;\n",
       "    }\n",
       "\n",
       "    .dataframe tbody tr th {\n",
       "        vertical-align: top;\n",
       "    }\n",
       "\n",
       "    .dataframe thead th {\n",
       "        text-align: right;\n",
       "    }\n",
       "</style>\n",
       "<table border=\"1\" class=\"dataframe\">\n",
       "  <thead>\n",
       "    <tr style=\"text-align: right;\">\n",
       "      <th></th>\n",
       "      <th>Model</th>\n",
       "      <th>Parameters</th>\n",
       "      <th>Xtrain_RMSLE</th>\n",
       "      <th>Xtest_RMSLE</th>\n",
       "      <th>dftrain_RMSLE</th>\n",
       "      <th>exp_dftrain_RMSLE</th>\n",
       "    </tr>\n",
       "  </thead>\n",
       "  <tbody>\n",
       "    <tr>\n",
       "      <td>0</td>\n",
       "      <td>XGBRegressor</td>\n",
       "      <td>{'base_score': 0.5, 'booster': 'gbtree', 'cols...</td>\n",
       "      <td>0.033884</td>\n",
       "      <td>0.076823</td>\n",
       "      <td>0.039218</td>\n",
       "      <td>0.141567</td>\n",
       "    </tr>\n",
       "    <tr>\n",
       "      <td>1</td>\n",
       "      <td>Ridge</td>\n",
       "      <td>{'alpha': 0.001, 'copy_X': True, 'fit_intercep...</td>\n",
       "      <td>0.228578</td>\n",
       "      <td>0.227614</td>\n",
       "      <td>0.228473</td>\n",
       "      <td>1.001155</td>\n",
       "    </tr>\n",
       "    <tr>\n",
       "      <td>2</td>\n",
       "      <td>Lasso</td>\n",
       "      <td>{'alpha': 0.0002, 'copy_X': True, 'fit_interce...</td>\n",
       "      <td>0.228607</td>\n",
       "      <td>0.227643</td>\n",
       "      <td>0.228503</td>\n",
       "      <td>1.001217</td>\n",
       "    </tr>\n",
       "    <tr>\n",
       "      <td>3</td>\n",
       "      <td>Lasso</td>\n",
       "      <td>{'alpha': 0.0002, 'copy_X': True, 'fit_interce...</td>\n",
       "      <td>0.228607</td>\n",
       "      <td>0.227641</td>\n",
       "      <td>0.228503</td>\n",
       "      <td>1.001216</td>\n",
       "    </tr>\n",
       "    <tr>\n",
       "      <td>4</td>\n",
       "      <td>RandomForestRegressor</td>\n",
       "      <td>{'bootstrap': True, 'criterion': 'mse', 'max_d...</td>\n",
       "      <td>0.125944</td>\n",
       "      <td>0.124722</td>\n",
       "      <td>0.125894</td>\n",
       "      <td>0.550575</td>\n",
       "    </tr>\n",
       "  </tbody>\n",
       "</table>\n",
       "</div>"
      ],
      "text/plain": [
       "                   Model                                         Parameters  \\\n",
       "0           XGBRegressor  {'base_score': 0.5, 'booster': 'gbtree', 'cols...   \n",
       "1                  Ridge  {'alpha': 0.001, 'copy_X': True, 'fit_intercep...   \n",
       "2                  Lasso  {'alpha': 0.0002, 'copy_X': True, 'fit_interce...   \n",
       "3                  Lasso  {'alpha': 0.0002, 'copy_X': True, 'fit_interce...   \n",
       "4  RandomForestRegressor  {'bootstrap': True, 'criterion': 'mse', 'max_d...   \n",
       "\n",
       "   Xtrain_RMSLE  Xtest_RMSLE  dftrain_RMSLE  exp_dftrain_RMSLE  \n",
       "0      0.033884     0.076823       0.039218           0.141567  \n",
       "1      0.228578     0.227614       0.228473           1.001155  \n",
       "2      0.228607     0.227643       0.228503           1.001217  \n",
       "3      0.228607     0.227641       0.228503           1.001216  \n",
       "4      0.125944     0.124722       0.125894           0.550575  "
      ]
     },
     "execution_count": 224,
     "metadata": {},
     "output_type": "execute_result"
    }
   ],
   "source": [
    "df_model_scores = model_scores(model_rf, df_model_scores)\n",
    "df_model_scores"
   ]
  },
  {
   "cell_type": "markdown",
   "metadata": {},
   "source": [
    "### Light GBM"
   ]
  },
  {
   "cell_type": "code",
   "execution_count": 228,
   "metadata": {},
   "outputs": [
    {
     "name": "stdout",
     "output_type": "stream",
     "text": [
      "Fitting 10 folds for each of 3 candidates, totalling 30 fits\n"
     ]
    },
    {
     "name": "stderr",
     "output_type": "stream",
     "text": [
      "[Parallel(n_jobs=-1)]: Using backend LokyBackend with 4 concurrent workers.\n",
      "[Parallel(n_jobs=-1)]: Done  30 out of  30 | elapsed:   12.5s finished\n"
     ]
    },
    {
     "name": "stdout",
     "output_type": "stream",
     "text": [
      "Best Score: 0.9600425504346572\n",
      "Parameters: {'learning_rate': 0.05}\n"
     ]
    }
   ],
   "source": [
    "model_lgbm = lgbm.LGBMRegressor(n_estimators=1000, objective='regression', random_state=42, n_jobs=-1)\n",
    "\n",
    "grid_lgbm = {'learning_rate':[0.02, 0.05, 0.08]}\n",
    "\n",
    "GSearch = GridSearchCV(param_grid=grid_lgbm, estimator=model_lgbm, cv=10, n_jobs=-1, verbose=1)\n",
    "\n",
    "GSearch.fit(X_train,y_train)\n",
    "\n",
    "print('Best Score:', GSearch.best_score_)\n",
    "print('Parameters:', GSearch.best_params_)"
   ]
  },
  {
   "cell_type": "code",
   "execution_count": 229,
   "metadata": {},
   "outputs": [
    {
     "data": {
      "text/html": [
       "<div>\n",
       "<style scoped>\n",
       "    .dataframe tbody tr th:only-of-type {\n",
       "        vertical-align: middle;\n",
       "    }\n",
       "\n",
       "    .dataframe tbody tr th {\n",
       "        vertical-align: top;\n",
       "    }\n",
       "\n",
       "    .dataframe thead th {\n",
       "        text-align: right;\n",
       "    }\n",
       "</style>\n",
       "<table border=\"1\" class=\"dataframe\">\n",
       "  <thead>\n",
       "    <tr style=\"text-align: right;\">\n",
       "      <th></th>\n",
       "      <th>Model</th>\n",
       "      <th>Parameters</th>\n",
       "      <th>Xtrain_RMSLE</th>\n",
       "      <th>Xtest_RMSLE</th>\n",
       "      <th>dftrain_RMSLE</th>\n",
       "      <th>exp_dftrain_RMSLE</th>\n",
       "    </tr>\n",
       "  </thead>\n",
       "  <tbody>\n",
       "    <tr>\n",
       "      <td>0</td>\n",
       "      <td>XGBRegressor</td>\n",
       "      <td>{'base_score': 0.5, 'booster': 'gbtree', 'cols...</td>\n",
       "      <td>0.033884</td>\n",
       "      <td>0.076823</td>\n",
       "      <td>0.039218</td>\n",
       "      <td>0.141567</td>\n",
       "    </tr>\n",
       "    <tr>\n",
       "      <td>1</td>\n",
       "      <td>Ridge</td>\n",
       "      <td>{'alpha': 0.001, 'copy_X': True, 'fit_intercep...</td>\n",
       "      <td>0.228578</td>\n",
       "      <td>0.227614</td>\n",
       "      <td>0.228473</td>\n",
       "      <td>1.001155</td>\n",
       "    </tr>\n",
       "    <tr>\n",
       "      <td>2</td>\n",
       "      <td>Lasso</td>\n",
       "      <td>{'alpha': 0.0002, 'copy_X': True, 'fit_interce...</td>\n",
       "      <td>0.228607</td>\n",
       "      <td>0.227643</td>\n",
       "      <td>0.228503</td>\n",
       "      <td>1.001217</td>\n",
       "    </tr>\n",
       "    <tr>\n",
       "      <td>3</td>\n",
       "      <td>Lasso</td>\n",
       "      <td>{'alpha': 0.0002, 'copy_X': True, 'fit_interce...</td>\n",
       "      <td>0.228607</td>\n",
       "      <td>0.227641</td>\n",
       "      <td>0.228503</td>\n",
       "      <td>1.001216</td>\n",
       "    </tr>\n",
       "    <tr>\n",
       "      <td>4</td>\n",
       "      <td>RandomForestRegressor</td>\n",
       "      <td>{'bootstrap': True, 'criterion': 'mse', 'max_d...</td>\n",
       "      <td>0.125944</td>\n",
       "      <td>0.124722</td>\n",
       "      <td>0.125894</td>\n",
       "      <td>0.550575</td>\n",
       "    </tr>\n",
       "    <tr>\n",
       "      <td>5</td>\n",
       "      <td>LGBMRegressor</td>\n",
       "      <td>{'boosting_type': 'gbdt', 'class_weight': None...</td>\n",
       "      <td>0.041801</td>\n",
       "      <td>0.074200</td>\n",
       "      <td>0.046207</td>\n",
       "      <td>0.164459</td>\n",
       "    </tr>\n",
       "  </tbody>\n",
       "</table>\n",
       "</div>"
      ],
      "text/plain": [
       "                   Model                                         Parameters  \\\n",
       "0           XGBRegressor  {'base_score': 0.5, 'booster': 'gbtree', 'cols...   \n",
       "1                  Ridge  {'alpha': 0.001, 'copy_X': True, 'fit_intercep...   \n",
       "2                  Lasso  {'alpha': 0.0002, 'copy_X': True, 'fit_interce...   \n",
       "3                  Lasso  {'alpha': 0.0002, 'copy_X': True, 'fit_interce...   \n",
       "4  RandomForestRegressor  {'bootstrap': True, 'criterion': 'mse', 'max_d...   \n",
       "5          LGBMRegressor  {'boosting_type': 'gbdt', 'class_weight': None...   \n",
       "\n",
       "   Xtrain_RMSLE  Xtest_RMSLE  dftrain_RMSLE  exp_dftrain_RMSLE  \n",
       "0      0.033884     0.076823       0.039218           0.141567  \n",
       "1      0.228578     0.227614       0.228473           1.001155  \n",
       "2      0.228607     0.227643       0.228503           1.001217  \n",
       "3      0.228607     0.227641       0.228503           1.001216  \n",
       "4      0.125944     0.124722       0.125894           0.550575  \n",
       "5      0.041801     0.074200       0.046207           0.164459  "
      ]
     },
     "execution_count": 229,
     "metadata": {},
     "output_type": "execute_result"
    }
   ],
   "source": [
    "model_lgbm = lgbm.LGBMRegressor(n_estimators=1000, objective='regression', random_state=42, n_jobs=-1, learning_rate=0.05)\n",
    "\n",
    "df_model_scores = model_scores(model_lgbm, df_model_scores)\n",
    "\n",
    "df_model_scores"
   ]
  },
  {
   "cell_type": "markdown",
   "metadata": {},
   "source": [
    "### ElasticNet"
   ]
  },
  {
   "cell_type": "code",
   "execution_count": 230,
   "metadata": {},
   "outputs": [
    {
     "data": {
      "text/plain": [
       "[0.0001, 0.0002, 0.0003, 0.0004, 0.0005, 0.0006, 0.0007]"
      ]
     },
     "execution_count": 230,
     "metadata": {},
     "output_type": "execute_result"
    }
   ],
   "source": [
    "elastic_alphas"
   ]
  },
  {
   "cell_type": "code",
   "execution_count": 231,
   "metadata": {},
   "outputs": [
    {
     "data": {
      "text/plain": [
       "[0.8, 0.85, 0.9, 0.95, 0.99, 1]"
      ]
     },
     "execution_count": 231,
     "metadata": {},
     "output_type": "execute_result"
    }
   ],
   "source": [
    "elastic_l1ratio"
   ]
  },
  {
   "cell_type": "code",
   "execution_count": 235,
   "metadata": {},
   "outputs": [
    {
     "data": {
      "text/plain": [
       "(0.0003, 0.8)"
      ]
     },
     "execution_count": 235,
     "metadata": {},
     "output_type": "execute_result"
    }
   ],
   "source": [
    "ecv = ElasticNetCV(alphas=elastic_alphas, l1_ratio=elastic_l1ratio, cv=10, n_jobs=-1, random_state=42, max_iter=10000)\n",
    "ecv.fit(X_train, y_train)\n",
    "ecv.alpha_, ecv.l1_ratio_"
   ]
  },
  {
   "cell_type": "code",
   "execution_count": 239,
   "metadata": {},
   "outputs": [
    {
     "data": {
      "text/plain": [
       "(0.0003, 0.7)"
      ]
     },
     "execution_count": 239,
     "metadata": {},
     "output_type": "execute_result"
    }
   ],
   "source": [
    "#Round 2\n",
    "elastic_alphas = [0.0003, 0.00035, 0.00028]\n",
    "elastic_l1ratio = [0.7, 0.75, 0.8]\n",
    "ecv = ElasticNetCV(alphas=elastic_alphas, l1_ratio=elastic_l1ratio, cv=10, n_jobs=-1, random_state=42, max_iter=10000)\n",
    "ecv.fit(X_train, y_train)\n",
    "ecv.alpha_, ecv.l1_ratio_"
   ]
  },
  {
   "cell_type": "code",
   "execution_count": 240,
   "metadata": {},
   "outputs": [
    {
     "data": {
      "text/plain": [
       "(0.0003, 0.5)"
      ]
     },
     "execution_count": 240,
     "metadata": {},
     "output_type": "execute_result"
    }
   ],
   "source": [
    "#Round 3\n",
    "elastic_l1ratio = [0.6, 0.5, 0.7]\n",
    "elastic_alphas = [0.0003]\n",
    "ecv = ElasticNetCV(alphas = elastic_alphas, l1_ratio=elastic_l1ratio, cv=10, n_jobs=-1, random_state=42, max_iter=10000)\n",
    "ecv.fit(X_train, y_train)\n",
    "ecv.alpha_, ecv.l1_ratio_"
   ]
  },
  {
   "cell_type": "code",
   "execution_count": 241,
   "metadata": {},
   "outputs": [
    {
     "data": {
      "text/plain": [
       "(0.0003, 0.5)"
      ]
     },
     "execution_count": 241,
     "metadata": {},
     "output_type": "execute_result"
    }
   ],
   "source": [
    "#Round 4\n",
    "elastic_l1ratio = [0.3, 0.2, 0.5]\n",
    "elastic_alphas = [0.0003]\n",
    "ecv = ElasticNetCV(alphas = elastic_alphas, l1_ratio=elastic_l1ratio, cv=10, n_jobs=-1, random_state=42, max_iter=10000)\n",
    "ecv.fit(X_train, y_train)\n",
    "ecv.alpha_, ecv.l1_ratio_"
   ]
  },
  {
   "cell_type": "code",
   "execution_count": 242,
   "metadata": {},
   "outputs": [
    {
     "data": {
      "text/html": [
       "<div>\n",
       "<style scoped>\n",
       "    .dataframe tbody tr th:only-of-type {\n",
       "        vertical-align: middle;\n",
       "    }\n",
       "\n",
       "    .dataframe tbody tr th {\n",
       "        vertical-align: top;\n",
       "    }\n",
       "\n",
       "    .dataframe thead th {\n",
       "        text-align: right;\n",
       "    }\n",
       "</style>\n",
       "<table border=\"1\" class=\"dataframe\">\n",
       "  <thead>\n",
       "    <tr style=\"text-align: right;\">\n",
       "      <th></th>\n",
       "      <th>Model</th>\n",
       "      <th>Parameters</th>\n",
       "      <th>Xtrain_RMSLE</th>\n",
       "      <th>Xtest_RMSLE</th>\n",
       "      <th>dftrain_RMSLE</th>\n",
       "      <th>exp_dftrain_RMSLE</th>\n",
       "    </tr>\n",
       "  </thead>\n",
       "  <tbody>\n",
       "    <tr>\n",
       "      <td>0</td>\n",
       "      <td>XGBRegressor</td>\n",
       "      <td>{'base_score': 0.5, 'booster': 'gbtree', 'cols...</td>\n",
       "      <td>0.033884</td>\n",
       "      <td>0.076823</td>\n",
       "      <td>0.039218</td>\n",
       "      <td>0.141567</td>\n",
       "    </tr>\n",
       "    <tr>\n",
       "      <td>1</td>\n",
       "      <td>Ridge</td>\n",
       "      <td>{'alpha': 0.001, 'copy_X': True, 'fit_intercep...</td>\n",
       "      <td>0.228578</td>\n",
       "      <td>0.227614</td>\n",
       "      <td>0.228473</td>\n",
       "      <td>1.001155</td>\n",
       "    </tr>\n",
       "    <tr>\n",
       "      <td>2</td>\n",
       "      <td>Lasso</td>\n",
       "      <td>{'alpha': 0.0002, 'copy_X': True, 'fit_interce...</td>\n",
       "      <td>0.228607</td>\n",
       "      <td>0.227643</td>\n",
       "      <td>0.228503</td>\n",
       "      <td>1.001217</td>\n",
       "    </tr>\n",
       "    <tr>\n",
       "      <td>3</td>\n",
       "      <td>Lasso</td>\n",
       "      <td>{'alpha': 0.0002, 'copy_X': True, 'fit_interce...</td>\n",
       "      <td>0.228607</td>\n",
       "      <td>0.227641</td>\n",
       "      <td>0.228503</td>\n",
       "      <td>1.001216</td>\n",
       "    </tr>\n",
       "    <tr>\n",
       "      <td>4</td>\n",
       "      <td>RandomForestRegressor</td>\n",
       "      <td>{'bootstrap': True, 'criterion': 'mse', 'max_d...</td>\n",
       "      <td>0.125944</td>\n",
       "      <td>0.124722</td>\n",
       "      <td>0.125894</td>\n",
       "      <td>0.550575</td>\n",
       "    </tr>\n",
       "    <tr>\n",
       "      <td>5</td>\n",
       "      <td>LGBMRegressor</td>\n",
       "      <td>{'boosting_type': 'gbdt', 'class_weight': None...</td>\n",
       "      <td>0.041801</td>\n",
       "      <td>0.074200</td>\n",
       "      <td>0.046207</td>\n",
       "      <td>0.164459</td>\n",
       "    </tr>\n",
       "    <tr>\n",
       "      <td>6</td>\n",
       "      <td>ElasticNet</td>\n",
       "      <td>{'alpha': 0.0003, 'copy_X': True, 'fit_interce...</td>\n",
       "      <td>0.228605</td>\n",
       "      <td>0.227638</td>\n",
       "      <td>0.228499</td>\n",
       "      <td>1.001214</td>\n",
       "    </tr>\n",
       "  </tbody>\n",
       "</table>\n",
       "</div>"
      ],
      "text/plain": [
       "                   Model                                         Parameters  \\\n",
       "0           XGBRegressor  {'base_score': 0.5, 'booster': 'gbtree', 'cols...   \n",
       "1                  Ridge  {'alpha': 0.001, 'copy_X': True, 'fit_intercep...   \n",
       "2                  Lasso  {'alpha': 0.0002, 'copy_X': True, 'fit_interce...   \n",
       "3                  Lasso  {'alpha': 0.0002, 'copy_X': True, 'fit_interce...   \n",
       "4  RandomForestRegressor  {'bootstrap': True, 'criterion': 'mse', 'max_d...   \n",
       "5          LGBMRegressor  {'boosting_type': 'gbdt', 'class_weight': None...   \n",
       "6             ElasticNet  {'alpha': 0.0003, 'copy_X': True, 'fit_interce...   \n",
       "\n",
       "   Xtrain_RMSLE  Xtest_RMSLE  dftrain_RMSLE  exp_dftrain_RMSLE  \n",
       "0      0.033884     0.076823       0.039218           0.141567  \n",
       "1      0.228578     0.227614       0.228473           1.001155  \n",
       "2      0.228607     0.227643       0.228503           1.001217  \n",
       "3      0.228607     0.227641       0.228503           1.001216  \n",
       "4      0.125944     0.124722       0.125894           0.550575  \n",
       "5      0.041801     0.074200       0.046207           0.164459  \n",
       "6      0.228605     0.227638       0.228499           1.001214  "
      ]
     },
     "execution_count": 242,
     "metadata": {},
     "output_type": "execute_result"
    }
   ],
   "source": [
    "model_elastic = ElasticNet(alpha=0.0003, l1_ratio=0.5, random_state=42, max_iter=10000)\n",
    "df_model_scores = model_scores(model_elastic, df_model_scores)\n",
    "df_model_scores"
   ]
  },
  {
   "cell_type": "markdown",
   "metadata": {},
   "source": [
    "### Gradient Boosting Model"
   ]
  },
  {
   "cell_type": "code",
   "execution_count": 248,
   "metadata": {},
   "outputs": [
    {
     "name": "stdout",
     "output_type": "stream",
     "text": [
      "Fitting 10 folds for each of 18 candidates, totalling 180 fits\n"
     ]
    },
    {
     "name": "stderr",
     "output_type": "stream",
     "text": [
      "[Parallel(n_jobs=-1)]: Using backend LokyBackend with 4 concurrent workers.\n",
      "[Parallel(n_jobs=-1)]: Done  33 tasks      | elapsed:   38.3s\n",
      "[Parallel(n_jobs=-1)]: Done 154 tasks      | elapsed:  2.7min\n",
      "[Parallel(n_jobs=-1)]: Done 180 out of 180 | elapsed:  3.2min finished\n"
     ]
    },
    {
     "name": "stdout",
     "output_type": "stream",
     "text": [
      "Best Score: 0.9583790897286701\n",
      "Best Param: {'alpha': 0.5, 'learning_rate': 0.1, 'max_depth': 5}\n"
     ]
    }
   ],
   "source": [
    "model_GB = GradientBoostingRegressor(n_estimators=300, random_state=42)\n",
    "\n",
    "GSearch_param = {'max_depth':[3,5],\n",
    "             'learning_rate':[0.1, 0.01, 0.3],\n",
    "                'alpha':[0.5, 0.1, 0.9]}\n",
    "\n",
    "GSearch_GB = GridSearchCV(param_grid=GSearch_param, estimator=model_GB, cv=10, n_jobs=-1, verbose=2)\n",
    "\n",
    "GSearch_GB.fit(X_train, y_train)\n",
    "\n",
    "print('Best Score:', GSearch_GB.best_score_)\n",
    "print('Best Param:', GSearch_GB.best_params_)"
   ]
  },
  {
   "cell_type": "code",
   "execution_count": 249,
   "metadata": {
    "scrolled": true
   },
   "outputs": [
    {
     "data": {
      "text/html": [
       "<div>\n",
       "<style scoped>\n",
       "    .dataframe tbody tr th:only-of-type {\n",
       "        vertical-align: middle;\n",
       "    }\n",
       "\n",
       "    .dataframe tbody tr th {\n",
       "        vertical-align: top;\n",
       "    }\n",
       "\n",
       "    .dataframe thead th {\n",
       "        text-align: right;\n",
       "    }\n",
       "</style>\n",
       "<table border=\"1\" class=\"dataframe\">\n",
       "  <thead>\n",
       "    <tr style=\"text-align: right;\">\n",
       "      <th></th>\n",
       "      <th>Model</th>\n",
       "      <th>Parameters</th>\n",
       "      <th>Xtrain_RMSLE</th>\n",
       "      <th>Xtest_RMSLE</th>\n",
       "      <th>dftrain_RMSLE</th>\n",
       "      <th>exp_dftrain_RMSLE</th>\n",
       "    </tr>\n",
       "  </thead>\n",
       "  <tbody>\n",
       "    <tr>\n",
       "      <td>0</td>\n",
       "      <td>XGBRegressor</td>\n",
       "      <td>{'base_score': 0.5, 'booster': 'gbtree', 'cols...</td>\n",
       "      <td>0.033884</td>\n",
       "      <td>0.076823</td>\n",
       "      <td>0.039218</td>\n",
       "      <td>0.141567</td>\n",
       "    </tr>\n",
       "    <tr>\n",
       "      <td>1</td>\n",
       "      <td>Ridge</td>\n",
       "      <td>{'alpha': 0.001, 'copy_X': True, 'fit_intercep...</td>\n",
       "      <td>0.228578</td>\n",
       "      <td>0.227614</td>\n",
       "      <td>0.228473</td>\n",
       "      <td>1.001155</td>\n",
       "    </tr>\n",
       "    <tr>\n",
       "      <td>2</td>\n",
       "      <td>Lasso</td>\n",
       "      <td>{'alpha': 0.0002, 'copy_X': True, 'fit_interce...</td>\n",
       "      <td>0.228607</td>\n",
       "      <td>0.227643</td>\n",
       "      <td>0.228503</td>\n",
       "      <td>1.001217</td>\n",
       "    </tr>\n",
       "    <tr>\n",
       "      <td>3</td>\n",
       "      <td>Lasso</td>\n",
       "      <td>{'alpha': 0.0002, 'copy_X': True, 'fit_interce...</td>\n",
       "      <td>0.228607</td>\n",
       "      <td>0.227641</td>\n",
       "      <td>0.228503</td>\n",
       "      <td>1.001216</td>\n",
       "    </tr>\n",
       "    <tr>\n",
       "      <td>4</td>\n",
       "      <td>RandomForestRegressor</td>\n",
       "      <td>{'bootstrap': True, 'criterion': 'mse', 'max_d...</td>\n",
       "      <td>0.125944</td>\n",
       "      <td>0.124722</td>\n",
       "      <td>0.125894</td>\n",
       "      <td>0.550575</td>\n",
       "    </tr>\n",
       "    <tr>\n",
       "      <td>5</td>\n",
       "      <td>LGBMRegressor</td>\n",
       "      <td>{'boosting_type': 'gbdt', 'class_weight': None...</td>\n",
       "      <td>0.041801</td>\n",
       "      <td>0.074200</td>\n",
       "      <td>0.046207</td>\n",
       "      <td>0.164459</td>\n",
       "    </tr>\n",
       "    <tr>\n",
       "      <td>6</td>\n",
       "      <td>ElasticNet</td>\n",
       "      <td>{'alpha': 0.0003, 'copy_X': True, 'fit_interce...</td>\n",
       "      <td>0.228605</td>\n",
       "      <td>0.227638</td>\n",
       "      <td>0.228499</td>\n",
       "      <td>1.001214</td>\n",
       "    </tr>\n",
       "    <tr>\n",
       "      <td>7</td>\n",
       "      <td>GradientBoostingRegressor</td>\n",
       "      <td>{'alpha': 0.9, 'criterion': 'friedman_mse', 'i...</td>\n",
       "      <td>0.052388</td>\n",
       "      <td>0.076689</td>\n",
       "      <td>0.056683</td>\n",
       "      <td>0.204538</td>\n",
       "    </tr>\n",
       "    <tr>\n",
       "      <td>8</td>\n",
       "      <td>GradientBoostingRegressor</td>\n",
       "      <td>{'alpha': 0.5, 'criterion': 'friedman_mse', 'i...</td>\n",
       "      <td>0.052388</td>\n",
       "      <td>0.076689</td>\n",
       "      <td>0.056683</td>\n",
       "      <td>0.204538</td>\n",
       "    </tr>\n",
       "  </tbody>\n",
       "</table>\n",
       "</div>"
      ],
      "text/plain": [
       "                       Model  \\\n",
       "0               XGBRegressor   \n",
       "1                      Ridge   \n",
       "2                      Lasso   \n",
       "3                      Lasso   \n",
       "4      RandomForestRegressor   \n",
       "5              LGBMRegressor   \n",
       "6                 ElasticNet   \n",
       "7  GradientBoostingRegressor   \n",
       "8  GradientBoostingRegressor   \n",
       "\n",
       "                                          Parameters  Xtrain_RMSLE  \\\n",
       "0  {'base_score': 0.5, 'booster': 'gbtree', 'cols...      0.033884   \n",
       "1  {'alpha': 0.001, 'copy_X': True, 'fit_intercep...      0.228578   \n",
       "2  {'alpha': 0.0002, 'copy_X': True, 'fit_interce...      0.228607   \n",
       "3  {'alpha': 0.0002, 'copy_X': True, 'fit_interce...      0.228607   \n",
       "4  {'bootstrap': True, 'criterion': 'mse', 'max_d...      0.125944   \n",
       "5  {'boosting_type': 'gbdt', 'class_weight': None...      0.041801   \n",
       "6  {'alpha': 0.0003, 'copy_X': True, 'fit_interce...      0.228605   \n",
       "7  {'alpha': 0.9, 'criterion': 'friedman_mse', 'i...      0.052388   \n",
       "8  {'alpha': 0.5, 'criterion': 'friedman_mse', 'i...      0.052388   \n",
       "\n",
       "   Xtest_RMSLE  dftrain_RMSLE  exp_dftrain_RMSLE  \n",
       "0     0.076823       0.039218           0.141567  \n",
       "1     0.227614       0.228473           1.001155  \n",
       "2     0.227643       0.228503           1.001217  \n",
       "3     0.227641       0.228503           1.001216  \n",
       "4     0.124722       0.125894           0.550575  \n",
       "5     0.074200       0.046207           0.164459  \n",
       "6     0.227638       0.228499           1.001214  \n",
       "7     0.076689       0.056683           0.204538  \n",
       "8     0.076689       0.056683           0.204538  "
      ]
     },
     "execution_count": 249,
     "metadata": {},
     "output_type": "execute_result"
    }
   ],
   "source": [
    "model_gb = GradientBoostingRegressor(n_estimators=300, random_state=42, max_depth=5, alpha=0.5)\n",
    "df_model_scores = model_scores(model_gb, df_model_scores)\n",
    "df_model_scores"
   ]
  },
  {
   "cell_type": "markdown",
   "metadata": {},
   "source": [
    "### Voting Regressor"
   ]
  },
  {
   "cell_type": "code",
   "execution_count": 267,
   "metadata": {},
   "outputs": [],
   "source": [
    "from sklearn.ensemble import VotingRegressor\n",
    "\n",
    "model_vote = VotingRegressor([('XGBoost', model_xgb), ('LGBM', model_lgbm), ('GradientBoosting', model_gb)])\n",
    "model_vote.fit(X_train, y_train)\n",
    "pred = model_vote.predict(df_test.values)"
   ]
  },
  {
   "cell_type": "code",
   "execution_count": 270,
   "metadata": {
    "scrolled": true
   },
   "outputs": [
    {
     "data": {
      "text/html": [
       "<div>\n",
       "<style scoped>\n",
       "    .dataframe tbody tr th:only-of-type {\n",
       "        vertical-align: middle;\n",
       "    }\n",
       "\n",
       "    .dataframe tbody tr th {\n",
       "        vertical-align: top;\n",
       "    }\n",
       "\n",
       "    .dataframe thead th {\n",
       "        text-align: right;\n",
       "    }\n",
       "</style>\n",
       "<table border=\"1\" class=\"dataframe\">\n",
       "  <thead>\n",
       "    <tr style=\"text-align: right;\">\n",
       "      <th></th>\n",
       "      <th>Model</th>\n",
       "      <th>Parameters</th>\n",
       "      <th>Xtrain_RMSLE</th>\n",
       "      <th>Xtest_RMSLE</th>\n",
       "      <th>dftrain_RMSLE</th>\n",
       "      <th>exp_dftrain_RMSLE</th>\n",
       "    </tr>\n",
       "  </thead>\n",
       "  <tbody>\n",
       "    <tr>\n",
       "      <td>0</td>\n",
       "      <td>XGBRegressor</td>\n",
       "      <td>{'base_score': 0.5, 'booster': 'gbtree', 'cols...</td>\n",
       "      <td>0.033884</td>\n",
       "      <td>0.076823</td>\n",
       "      <td>0.039218</td>\n",
       "      <td>0.141567</td>\n",
       "    </tr>\n",
       "    <tr>\n",
       "      <td>1</td>\n",
       "      <td>Ridge</td>\n",
       "      <td>{'alpha': 0.001, 'copy_X': True, 'fit_intercep...</td>\n",
       "      <td>0.228578</td>\n",
       "      <td>0.227614</td>\n",
       "      <td>0.228473</td>\n",
       "      <td>1.001155</td>\n",
       "    </tr>\n",
       "    <tr>\n",
       "      <td>2</td>\n",
       "      <td>Lasso</td>\n",
       "      <td>{'alpha': 0.0002, 'copy_X': True, 'fit_interce...</td>\n",
       "      <td>0.228607</td>\n",
       "      <td>0.227643</td>\n",
       "      <td>0.228503</td>\n",
       "      <td>1.001217</td>\n",
       "    </tr>\n",
       "    <tr>\n",
       "      <td>3</td>\n",
       "      <td>Lasso</td>\n",
       "      <td>{'alpha': 0.0002, 'copy_X': True, 'fit_interce...</td>\n",
       "      <td>0.228607</td>\n",
       "      <td>0.227641</td>\n",
       "      <td>0.228503</td>\n",
       "      <td>1.001216</td>\n",
       "    </tr>\n",
       "    <tr>\n",
       "      <td>4</td>\n",
       "      <td>RandomForestRegressor</td>\n",
       "      <td>{'bootstrap': True, 'criterion': 'mse', 'max_d...</td>\n",
       "      <td>0.125944</td>\n",
       "      <td>0.124722</td>\n",
       "      <td>0.125894</td>\n",
       "      <td>0.550575</td>\n",
       "    </tr>\n",
       "    <tr>\n",
       "      <td>5</td>\n",
       "      <td>LGBMRegressor</td>\n",
       "      <td>{'boosting_type': 'gbdt', 'class_weight': None...</td>\n",
       "      <td>0.041801</td>\n",
       "      <td>0.074200</td>\n",
       "      <td>0.046207</td>\n",
       "      <td>0.164459</td>\n",
       "    </tr>\n",
       "    <tr>\n",
       "      <td>6</td>\n",
       "      <td>ElasticNet</td>\n",
       "      <td>{'alpha': 0.0003, 'copy_X': True, 'fit_interce...</td>\n",
       "      <td>0.228605</td>\n",
       "      <td>0.227638</td>\n",
       "      <td>0.228499</td>\n",
       "      <td>1.001214</td>\n",
       "    </tr>\n",
       "    <tr>\n",
       "      <td>7</td>\n",
       "      <td>GradientBoostingRegressor</td>\n",
       "      <td>{'alpha': 0.9, 'criterion': 'friedman_mse', 'i...</td>\n",
       "      <td>0.052388</td>\n",
       "      <td>0.076689</td>\n",
       "      <td>0.056683</td>\n",
       "      <td>0.204538</td>\n",
       "    </tr>\n",
       "    <tr>\n",
       "      <td>8</td>\n",
       "      <td>GradientBoostingRegressor</td>\n",
       "      <td>{'alpha': 0.5, 'criterion': 'friedman_mse', 'i...</td>\n",
       "      <td>0.052388</td>\n",
       "      <td>0.076689</td>\n",
       "      <td>0.056683</td>\n",
       "      <td>0.204538</td>\n",
       "    </tr>\n",
       "    <tr>\n",
       "      <td>9</td>\n",
       "      <td>VotingRegressor</td>\n",
       "      <td>{'estimators': [('XGBoost', XGBRegressor(base_...</td>\n",
       "      <td>0.041501</td>\n",
       "      <td>0.074526</td>\n",
       "      <td>0.046255</td>\n",
       "      <td>0.164764</td>\n",
       "    </tr>\n",
       "  </tbody>\n",
       "</table>\n",
       "</div>"
      ],
      "text/plain": [
       "                       Model  \\\n",
       "0               XGBRegressor   \n",
       "1                      Ridge   \n",
       "2                      Lasso   \n",
       "3                      Lasso   \n",
       "4      RandomForestRegressor   \n",
       "5              LGBMRegressor   \n",
       "6                 ElasticNet   \n",
       "7  GradientBoostingRegressor   \n",
       "8  GradientBoostingRegressor   \n",
       "9            VotingRegressor   \n",
       "\n",
       "                                          Parameters  Xtrain_RMSLE  \\\n",
       "0  {'base_score': 0.5, 'booster': 'gbtree', 'cols...      0.033884   \n",
       "1  {'alpha': 0.001, 'copy_X': True, 'fit_intercep...      0.228578   \n",
       "2  {'alpha': 0.0002, 'copy_X': True, 'fit_interce...      0.228607   \n",
       "3  {'alpha': 0.0002, 'copy_X': True, 'fit_interce...      0.228607   \n",
       "4  {'bootstrap': True, 'criterion': 'mse', 'max_d...      0.125944   \n",
       "5  {'boosting_type': 'gbdt', 'class_weight': None...      0.041801   \n",
       "6  {'alpha': 0.0003, 'copy_X': True, 'fit_interce...      0.228605   \n",
       "7  {'alpha': 0.9, 'criterion': 'friedman_mse', 'i...      0.052388   \n",
       "8  {'alpha': 0.5, 'criterion': 'friedman_mse', 'i...      0.052388   \n",
       "9  {'estimators': [('XGBoost', XGBRegressor(base_...      0.041501   \n",
       "\n",
       "   Xtest_RMSLE  dftrain_RMSLE  exp_dftrain_RMSLE  \n",
       "0     0.076823       0.039218           0.141567  \n",
       "1     0.227614       0.228473           1.001155  \n",
       "2     0.227643       0.228503           1.001217  \n",
       "3     0.227641       0.228503           1.001216  \n",
       "4     0.124722       0.125894           0.550575  \n",
       "5     0.074200       0.046207           0.164459  \n",
       "6     0.227638       0.228499           1.001214  \n",
       "7     0.076689       0.056683           0.204538  \n",
       "8     0.076689       0.056683           0.204538  \n",
       "9     0.074526       0.046255           0.164764  "
      ]
     },
     "execution_count": 270,
     "metadata": {},
     "output_type": "execute_result"
    }
   ],
   "source": [
    "df_model_scores = model_scores(model_vote, df_model_scores)\n",
    "df_model_scores"
   ]
  },
  {
   "cell_type": "markdown",
   "metadata": {},
   "source": [
    "### Voting Model Secured 0.38715"
   ]
  },
  {
   "cell_type": "markdown",
   "metadata": {},
   "source": [
    "### Stacking Regressor"
   ]
  },
  {
   "cell_type": "code",
   "execution_count": 282,
   "metadata": {
    "scrolled": false
   },
   "outputs": [
    {
     "data": {
      "text/html": [
       "<div>\n",
       "<style scoped>\n",
       "    .dataframe tbody tr th:only-of-type {\n",
       "        vertical-align: middle;\n",
       "    }\n",
       "\n",
       "    .dataframe tbody tr th {\n",
       "        vertical-align: top;\n",
       "    }\n",
       "\n",
       "    .dataframe thead th {\n",
       "        text-align: right;\n",
       "    }\n",
       "</style>\n",
       "<table border=\"1\" class=\"dataframe\">\n",
       "  <thead>\n",
       "    <tr style=\"text-align: right;\">\n",
       "      <th></th>\n",
       "      <th>Model</th>\n",
       "      <th>Parameters</th>\n",
       "      <th>Xtrain_RMSLE</th>\n",
       "      <th>Xtest_RMSLE</th>\n",
       "      <th>dftrain_RMSLE</th>\n",
       "      <th>exp_dftrain_RMSLE</th>\n",
       "    </tr>\n",
       "  </thead>\n",
       "  <tbody>\n",
       "    <tr>\n",
       "      <td>0</td>\n",
       "      <td>XGBRegressor</td>\n",
       "      <td>{'base_score': 0.5, 'booster': 'gbtree', 'cols...</td>\n",
       "      <td>0.033884</td>\n",
       "      <td>0.076823</td>\n",
       "      <td>0.039218</td>\n",
       "      <td>0.141567</td>\n",
       "    </tr>\n",
       "    <tr>\n",
       "      <td>1</td>\n",
       "      <td>Ridge</td>\n",
       "      <td>{'alpha': 0.001, 'copy_X': True, 'fit_intercep...</td>\n",
       "      <td>0.228578</td>\n",
       "      <td>0.227614</td>\n",
       "      <td>0.228473</td>\n",
       "      <td>1.001155</td>\n",
       "    </tr>\n",
       "    <tr>\n",
       "      <td>2</td>\n",
       "      <td>Lasso</td>\n",
       "      <td>{'alpha': 0.0002, 'copy_X': True, 'fit_interce...</td>\n",
       "      <td>0.228607</td>\n",
       "      <td>0.227643</td>\n",
       "      <td>0.228503</td>\n",
       "      <td>1.001217</td>\n",
       "    </tr>\n",
       "    <tr>\n",
       "      <td>3</td>\n",
       "      <td>Lasso</td>\n",
       "      <td>{'alpha': 0.0002, 'copy_X': True, 'fit_interce...</td>\n",
       "      <td>0.228607</td>\n",
       "      <td>0.227641</td>\n",
       "      <td>0.228503</td>\n",
       "      <td>1.001216</td>\n",
       "    </tr>\n",
       "    <tr>\n",
       "      <td>4</td>\n",
       "      <td>RandomForestRegressor</td>\n",
       "      <td>{'bootstrap': True, 'criterion': 'mse', 'max_d...</td>\n",
       "      <td>0.125944</td>\n",
       "      <td>0.124722</td>\n",
       "      <td>0.125894</td>\n",
       "      <td>0.550575</td>\n",
       "    </tr>\n",
       "    <tr>\n",
       "      <td>5</td>\n",
       "      <td>LGBMRegressor</td>\n",
       "      <td>{'boosting_type': 'gbdt', 'class_weight': None...</td>\n",
       "      <td>0.041801</td>\n",
       "      <td>0.074200</td>\n",
       "      <td>0.046207</td>\n",
       "      <td>0.164459</td>\n",
       "    </tr>\n",
       "    <tr>\n",
       "      <td>6</td>\n",
       "      <td>ElasticNet</td>\n",
       "      <td>{'alpha': 0.0003, 'copy_X': True, 'fit_interce...</td>\n",
       "      <td>0.228605</td>\n",
       "      <td>0.227638</td>\n",
       "      <td>0.228499</td>\n",
       "      <td>1.001214</td>\n",
       "    </tr>\n",
       "    <tr>\n",
       "      <td>7</td>\n",
       "      <td>GradientBoostingRegressor</td>\n",
       "      <td>{'alpha': 0.9, 'criterion': 'friedman_mse', 'i...</td>\n",
       "      <td>0.052388</td>\n",
       "      <td>0.076689</td>\n",
       "      <td>0.056683</td>\n",
       "      <td>0.204538</td>\n",
       "    </tr>\n",
       "    <tr>\n",
       "      <td>8</td>\n",
       "      <td>GradientBoostingRegressor</td>\n",
       "      <td>{'alpha': 0.5, 'criterion': 'friedman_mse', 'i...</td>\n",
       "      <td>0.052388</td>\n",
       "      <td>0.076689</td>\n",
       "      <td>0.056683</td>\n",
       "      <td>0.204538</td>\n",
       "    </tr>\n",
       "    <tr>\n",
       "      <td>9</td>\n",
       "      <td>VotingRegressor</td>\n",
       "      <td>{'estimators': [('XGBoost', XGBRegressor(base_...</td>\n",
       "      <td>0.041501</td>\n",
       "      <td>0.074526</td>\n",
       "      <td>0.046255</td>\n",
       "      <td>0.164764</td>\n",
       "    </tr>\n",
       "    <tr>\n",
       "      <td>10</td>\n",
       "      <td>StackingRegressor</td>\n",
       "      <td>{'meta_regressor__base_score': 0.5, 'meta_regr...</td>\n",
       "      <td>0.015672</td>\n",
       "      <td>0.078740</td>\n",
       "      <td>0.020848</td>\n",
       "      <td>0.092722</td>\n",
       "    </tr>\n",
       "    <tr>\n",
       "      <td>11</td>\n",
       "      <td>StackingRegressor</td>\n",
       "      <td>{'meta_regressor__base_score': 0.5, 'meta_regr...</td>\n",
       "      <td>0.017414</td>\n",
       "      <td>0.079318</td>\n",
       "      <td>0.022384</td>\n",
       "      <td>0.101025</td>\n",
       "    </tr>\n",
       "  </tbody>\n",
       "</table>\n",
       "</div>"
      ],
      "text/plain": [
       "                        Model  \\\n",
       "0                XGBRegressor   \n",
       "1                       Ridge   \n",
       "2                       Lasso   \n",
       "3                       Lasso   \n",
       "4       RandomForestRegressor   \n",
       "5               LGBMRegressor   \n",
       "6                  ElasticNet   \n",
       "7   GradientBoostingRegressor   \n",
       "8   GradientBoostingRegressor   \n",
       "9             VotingRegressor   \n",
       "10          StackingRegressor   \n",
       "11          StackingRegressor   \n",
       "\n",
       "                                           Parameters  Xtrain_RMSLE  \\\n",
       "0   {'base_score': 0.5, 'booster': 'gbtree', 'cols...      0.033884   \n",
       "1   {'alpha': 0.001, 'copy_X': True, 'fit_intercep...      0.228578   \n",
       "2   {'alpha': 0.0002, 'copy_X': True, 'fit_interce...      0.228607   \n",
       "3   {'alpha': 0.0002, 'copy_X': True, 'fit_interce...      0.228607   \n",
       "4   {'bootstrap': True, 'criterion': 'mse', 'max_d...      0.125944   \n",
       "5   {'boosting_type': 'gbdt', 'class_weight': None...      0.041801   \n",
       "6   {'alpha': 0.0003, 'copy_X': True, 'fit_interce...      0.228605   \n",
       "7   {'alpha': 0.9, 'criterion': 'friedman_mse', 'i...      0.052388   \n",
       "8   {'alpha': 0.5, 'criterion': 'friedman_mse', 'i...      0.052388   \n",
       "9   {'estimators': [('XGBoost', XGBRegressor(base_...      0.041501   \n",
       "10  {'meta_regressor__base_score': 0.5, 'meta_regr...      0.015672   \n",
       "11  {'meta_regressor__base_score': 0.5, 'meta_regr...      0.017414   \n",
       "\n",
       "    Xtest_RMSLE  dftrain_RMSLE  exp_dftrain_RMSLE  \n",
       "0      0.076823       0.039218           0.141567  \n",
       "1      0.227614       0.228473           1.001155  \n",
       "2      0.227643       0.228503           1.001217  \n",
       "3      0.227641       0.228503           1.001216  \n",
       "4      0.124722       0.125894           0.550575  \n",
       "5      0.074200       0.046207           0.164459  \n",
       "6      0.227638       0.228499           1.001214  \n",
       "7      0.076689       0.056683           0.204538  \n",
       "8      0.076689       0.056683           0.204538  \n",
       "9      0.074526       0.046255           0.164764  \n",
       "10     0.078740       0.020848           0.092722  \n",
       "11     0.079318       0.022384           0.101025  "
      ]
     },
     "execution_count": 282,
     "metadata": {},
     "output_type": "execute_result"
    }
   ],
   "source": [
    "from mlxtend.regressor import StackingRegressor\n",
    "\n",
    "stack_reg = StackingRegressor(regressors=[model_gb, model_lgbm], meta_regressor=model_xgb, \n",
    "                              use_features_in_secondary=False)\n",
    "\n",
    "df_model_scores = model_scores(stack_reg, df_model_scores)\n",
    "df_model_scores"
   ]
  },
  {
   "cell_type": "code",
   "execution_count": 286,
   "metadata": {},
   "outputs": [],
   "source": [
    "df_model_scores.to_csv('Kaggle_Bike_Sharing_Model.csv')"
   ]
  },
  {
   "cell_type": "code",
   "execution_count": 283,
   "metadata": {},
   "outputs": [
    {
     "data": {
      "text/plain": [
       "array([10.684839 ,  3.2678409,  2.6551516,  1.7179825,  2.5809026],\n",
       "      dtype=float32)"
      ]
     },
     "execution_count": 283,
     "metadata": {},
     "output_type": "execute_result"
    }
   ],
   "source": [
    "pred = stack_reg.predict(df_test.values)\n",
    "x = pred[:5]\n",
    "np.expm1(x)"
   ]
  },
  {
   "cell_type": "markdown",
   "metadata": {},
   "source": [
    "### Consolidating"
   ]
  },
  {
   "cell_type": "code",
   "execution_count": 261,
   "metadata": {},
   "outputs": [],
   "source": [
    "#Light GBM Prediction\n",
    "model_lgbm.fit(X_train, y_train)\n",
    "# model_lgbm.fit(df_train.values, target)\n",
    "pred = model_lgbm.predict(df_test.values)"
   ]
  },
  {
   "cell_type": "code",
   "execution_count": 254,
   "metadata": {},
   "outputs": [],
   "source": [
    "#Gradient Boosting Preidction\n",
    "model_gb.fit(X_train, y_train)\n",
    "pred = model_gb.predict(df_test.values)"
   ]
  },
  {
   "cell_type": "code",
   "execution_count": 257,
   "metadata": {},
   "outputs": [
    {
     "data": {
      "text/plain": [
       "XGBRegressor(base_score=0.5, booster='gbtree', colsample_bylevel=1,\n",
       "             colsample_bynode=1, colsample_bytree=1, gamma=0,\n",
       "             importance_type='gain', learning_rate=0.1, max_delta_step=0,\n",
       "             max_depth=5, min_child_weight=1, missing=None, n_estimators=1000,\n",
       "             n_jobs=-1, nthread=None, objective='reg:squarederror',\n",
       "             random_state=42, reg_alpha=0, reg_lambda=1, scale_pos_weight=1,\n",
       "             seed=None, silent=None, subsample=1, verbosity=1)"
      ]
     },
     "execution_count": 257,
     "metadata": {},
     "output_type": "execute_result"
    }
   ],
   "source": [
    "#Boosing\n",
    "model_xgb.fit(X_train, y_train)"
   ]
  },
  {
   "cell_type": "code",
   "execution_count": 262,
   "metadata": {},
   "outputs": [],
   "source": [
    "#Stacking model\n",
    "pred = (model_xgb.predict(df_test.values) + model_lgbm.predict(df_test.values) + model_gb.predict(df_test.values))/3"
   ]
  },
  {
   "cell_type": "code",
   "execution_count": 284,
   "metadata": {},
   "outputs": [
    {
     "data": {
      "text/html": [
       "<div>\n",
       "<style scoped>\n",
       "    .dataframe tbody tr th:only-of-type {\n",
       "        vertical-align: middle;\n",
       "    }\n",
       "\n",
       "    .dataframe tbody tr th {\n",
       "        vertical-align: top;\n",
       "    }\n",
       "\n",
       "    .dataframe thead th {\n",
       "        text-align: right;\n",
       "    }\n",
       "</style>\n",
       "<table border=\"1\" class=\"dataframe\">\n",
       "  <thead>\n",
       "    <tr style=\"text-align: right;\">\n",
       "      <th></th>\n",
       "      <th>datetime</th>\n",
       "      <th>count</th>\n",
       "    </tr>\n",
       "  </thead>\n",
       "  <tbody>\n",
       "    <tr>\n",
       "      <td>0</td>\n",
       "      <td>2011-01-20 00:00:00</td>\n",
       "      <td>11.0</td>\n",
       "    </tr>\n",
       "    <tr>\n",
       "      <td>1</td>\n",
       "      <td>2011-01-20 01:00:00</td>\n",
       "      <td>3.0</td>\n",
       "    </tr>\n",
       "    <tr>\n",
       "      <td>2</td>\n",
       "      <td>2011-01-20 02:00:00</td>\n",
       "      <td>3.0</td>\n",
       "    </tr>\n",
       "    <tr>\n",
       "      <td>3</td>\n",
       "      <td>2011-01-20 03:00:00</td>\n",
       "      <td>2.0</td>\n",
       "    </tr>\n",
       "    <tr>\n",
       "      <td>4</td>\n",
       "      <td>2011-01-20 04:00:00</td>\n",
       "      <td>3.0</td>\n",
       "    </tr>\n",
       "  </tbody>\n",
       "</table>\n",
       "</div>"
      ],
      "text/plain": [
       "              datetime  count\n",
       "0  2011-01-20 00:00:00   11.0\n",
       "1  2011-01-20 01:00:00    3.0\n",
       "2  2011-01-20 02:00:00    3.0\n",
       "3  2011-01-20 03:00:00    2.0\n",
       "4  2011-01-20 04:00:00    3.0"
      ]
     },
     "execution_count": 284,
     "metadata": {},
     "output_type": "execute_result"
    }
   ],
   "source": [
    "#Submission\n",
    "pred = np.expm1(pred)\n",
    "\n",
    "#Rounding prediction\n",
    "sr_pred = pd.Series(data=pred, name='count')\n",
    "sr_pred = sr_pred.apply(lambda x: round(x,0))\n",
    "\n",
    "submission = pd.DataFrame({'datetime':srs_timestamp, 'count':sr_pred})\n",
    "submission.head()"
   ]
  },
  {
   "cell_type": "code",
   "execution_count": 285,
   "metadata": {},
   "outputs": [],
   "source": [
    "submission.to_csv('submission/StackingRegressorv2.csv', index=False)"
   ]
  },
  {
   "cell_type": "markdown",
   "metadata": {},
   "source": [
    "---"
   ]
  },
  {
   "cell_type": "code",
   "execution_count": null,
   "metadata": {},
   "outputs": [],
   "source": []
  }
 ],
 "metadata": {
  "kernelspec": {
   "display_name": "Python 3",
   "language": "python",
   "name": "python3"
  },
  "language_info": {
   "codemirror_mode": {
    "name": "ipython",
    "version": 3
   },
   "file_extension": ".py",
   "mimetype": "text/x-python",
   "name": "python",
   "nbconvert_exporter": "python",
   "pygments_lexer": "ipython3",
   "version": "3.7.1"
  }
 },
 "nbformat": 4,
 "nbformat_minor": 2
}
